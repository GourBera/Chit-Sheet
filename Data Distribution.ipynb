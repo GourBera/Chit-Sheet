{
 "cells": [
  {
   "cell_type": "markdown",
   "metadata": {},
   "source": [
    "## Data Distribution"
   ]
  },
  {
   "cell_type": "markdown",
   "metadata": {},
   "source": [
    "A statistical data distribution refers to the way that values in a set of data are spread out. There are several commonly used statistical data distributions, including:\n",
    "\n",
    "1. Normal distribution: Also known as the Gaussian distribution or bell curve, this is a symmetrical distribution that is characterized by its mean, median, and mode being equal. It is often used as a model for continuous variables in many real-world situations.\n",
    "\n",
    "2. Uniform distribution: This is a distribution in which all values are equally likely to occur within a given range.\n",
    "\n",
    "3. Poisson distribution: This is a distribution that models the number of events that occur in a fixed interval of time or space.\n",
    "\n",
    "4. Exponential distribution: This is a distribution that models the time between events in a Poisson process.\n",
    "\n",
    "5. Binomial distribution: This is a distribution that models the number of successes in a fixed number of independent Bernoulli trials.\n",
    "\n",
    "6. T-distribution: This is a distribution that models the mean of a normally distributed population, when the sample size is small.\n",
    "\n",
    "7. F-distribution: This is a distribution that models the ratio of two independent chi-square variables.\n",
    "\n",
    "\n",
    "There are several statistical tests and visual techniques that can be used to determine the type of data distribution. Here are a few common methods:\n",
    "\n",
    "1. Visual inspection: One of the simplest ways to determine the distribution of a data set is to plot the data and visually inspect the plot. A normal distribution will look like a bell-shaped curve, while other distributions such as uniform or exponential will have a different shape.\n",
    "\n",
    "2. Shapiro-Wilk test: The Shapiro-Wilk test is a statistical test that can be used to determine if a data set is normally distributed. It returns a p-value, and if the p-value is less than a certain significance level (e.g. 0.05), it can be concluded that the data is not normally distributed.\n",
    "\n",
    "3. Anderson-Darling test: The Anderson-Darling test is another statistical test that can be used to determine if a data set is normally distributed. It is more sensitive than the Shapiro-Wilk test and is considered to be a more powerful test for normality.\n",
    "\n",
    "4. Quantile-Quantile (Q-Q) plot: A Q-Q plot is a graphical technique that can be used to compare the distribution of a data set to a theoretical distribution, such as the normal distribution. If the data is normally distributed, the points on the Q-Q plot will lie on a straight line.\n",
    "\n",
    "5. Kolmogorov-Smirnov test: The Kolmogorov-Smirnov test is a non-parametric test that can be used to determine if a data set is drawn from a particular distribution. It can be used to determine if a data set is normally distributed, as well as other distributions such as the uniform or exponential distribution.\n"
   ]
  },
  {
   "cell_type": "markdown",
   "metadata": {},
   "source": [
    "##### Shapiro-Wilk test\n",
    "\n",
    "The Shapiro-Wilk test is a statistical test used to determine whether a sample of data comes from a normally distributed population. The test works by comparing the distribution of the sample to the expected distribution of a normal distribution."
   ]
  },
  {
   "cell_type": "code",
   "execution_count": 20,
   "metadata": {},
   "outputs": [
    {
     "name": "stdout",
     "output_type": "stream",
     "text": [
      "The data is likely to come from a normally distributed population.\n"
     ]
    }
   ],
   "source": [
    "import numpy as np\n",
    "from scipy.stats import shapiro\n",
    "\n",
    "# Generate a sample of data\n",
    "data = np.random.normal(0, 1, 1000)\n",
    "\n",
    "# Perform the Shapiro-Wilk test\n",
    "stat, p = shapiro(data)\n",
    "\n",
    "# Check the p-value\n",
    "if p > 0.05:\n",
    "    print(\"The data is likely to come from a normally distributed population.\")\n",
    "else:\n",
    "    print(\"The data is unlikely to come from a normally distributed population.\")\n"
   ]
  },
  {
   "cell_type": "markdown",
   "metadata": {},
   "source": [
    "In this example, a sample of data is generated using the normal distribution with a mean of 0 and a standard deviation of 1. The scipy.stats.shapiro() function is used to perform the Shapiro-Wilk test on the sample. The resulting p-value is then compared to a significance level of 0.05. If the p-value is greater than 0.05, the data is considered to come from a normally distributed population. If the p-value is less than 0.05, the data is considered to be unlikely to come from a normally distributed population."
   ]
  },
  {
   "cell_type": "markdown",
   "metadata": {},
   "source": [
    "##### Quantile-Quantile (Q-Q) plot\n",
    "\n",
    "A Quantile-Quantile (Q-Q) plot is a graphical representation of the comparison between two sets of sample quantiles. In a Q-Q plot, the quantiles of one sample are plotted against the quantiles of another sample, typically a theoretical normal distribution. The plot can be used to assess the normality of a sample of data by checking if the points on the plot follow a straight line."
   ]
  },
  {
   "cell_type": "code",
   "execution_count": 21,
   "metadata": {},
   "outputs": [
    {
     "data": {
      "image/png": "[encoded data removed]",
      "text/plain": [
       "<Figure size 432x288 with 1 Axes>"
      ]
     },
     "metadata": {
      "needs_background": "light"
     },
     "output_type": "display_data"
    }
   ],
   "source": [
    "import numpy as np\n",
    "import matplotlib.pyplot as plt\n",
    "import scipy.stats as stats\n",
    "\n",
    "# Generate a sample of data\n",
    "data = np.random.normal(0, 1, 1000)\n",
    "\n",
    "# Create the Q-Q plot\n",
    "fig = plt.figure()\n",
    "ax = fig.add_subplot(111)\n",
    "stats.probplot(data, plot=ax)\n",
    "plt.show()\n"
   ]
  },
  {
   "cell_type": "markdown",
   "metadata": {},
   "source": [
    "In this example, a sample of data is generated using the normal distribution with a mean of 0 and a standard deviation of 1. The scipy.stats.probplot() function is used to create a Q-Q plot of the sample against a theoretical normal distribution. The resulting plot is displayed using the matplotlib.pyplot library. If the sample of data is normally distributed, the points on the plot will follow a straight line. If the sample of data is not normally distributed, the points on the plot will deviate from a straight line."
   ]
  },
  {
   "cell_type": "markdown",
   "metadata": {},
   "source": [
    "##### Anderson-Darling test\n",
    "\n",
    "The Anderson-Darling test is a statistical test that is used to test for normality in a data set. The test measures the deviation of the cumulative distribution function of the sample from that of the theoretical normal distribution. The test statistic is calculated based on the difference between the sample and the theoretical distribution, and it's compared to the critical values from the Anderson-Darling distribution table to determine whether the sample is from a normal distribution or not."
   ]
  },
  {
   "cell_type": "code",
   "execution_count": 1,
   "metadata": {},
   "outputs": [
    {
     "name": "stdout",
     "output_type": "stream",
     "text": [
      "Anderson-Darling test statistic: 0.260\n",
      "15.000: 0.720, data looks normal (fail to reject H0)\n",
      "10.000: 0.820, data looks normal (fail to reject H0)\n",
      "5.000: 0.984, data looks normal (fail to reject H0)\n",
      "2.500: 1.148, data looks normal (fail to reject H0)\n",
      "1.000: 1.365, data looks normal (fail to reject H0)\n"
     ]
    }
   ],
   "source": [
    "import numpy as np\n",
    "from scipy.stats import anderson\n",
    "\n",
    "sample = [7, 8, 9, 2, 4]\n",
    "result = anderson(sample)\n",
    "\n",
    "print('Anderson-Darling test statistic: %.3f' % result.statistic)\n",
    "\n",
    "for i in range(len(result.critical_values)):\n",
    "    sl, cv = result.significance_level[i], result.critical_values[i]\n",
    "    if result.statistic < result.critical_values[i]:\n",
    "        print('%.3f: %.3f, data looks normal (fail to reject H0)' % (sl, cv))\n",
    "    else:\n",
    "        print('%.3f: %.3f, data does not look normal (reject H0)' % (sl, cv))\n"
   ]
  },
  {
   "cell_type": "markdown",
   "metadata": {},
   "source": [
    "The output will provide the Anderson-Darling test statistic and a comparison to the critical values. If the test statistic is less than the critical value, the null hypothesis (that the data is from a normal distribution) cannot be rejected. If the test statistic is greater than the critical value, the null hypothesis is rejected, and it can be concluded that the data is not from a normal distribution."
   ]
  },
  {
   "cell_type": "markdown",
   "metadata": {},
   "source": [
    "##### Kolmogorov-Smirnov test\n",
    "\n",
    "The Kolmogorov-Smirnov test is a non-parametric test used to determine whether a sample of data comes from a given continuous theoretical distribution. The test statistic is the maximum absolute difference between the cumulative distribution function (CDF) of the sample and the CDF of the theoretical distribution. The test is widely used to test for normality, as well as for other distributions."
   ]
  },
  {
   "cell_type": "code",
   "execution_count": 3,
   "metadata": {},
   "outputs": [
    {
     "name": "stdout",
     "output_type": "stream",
     "text": [
      "Kolmogorov-Smirnov test statistic:  0.9772498680518208\n",
      "p-value:  1.2188481288914186e-08\n"
     ]
    }
   ],
   "source": [
    "import numpy as np\n",
    "from scipy.stats import kstest\n",
    "\n",
    "sample = [7, 8, 9, 2, 4]\n",
    "result = kstest(sample, 'norm')\n",
    "\n",
    "print('Kolmogorov-Smirnov test statistic: ', result[0])\n",
    "print('p-value: ', result[1])\n"
   ]
  },
  {
   "cell_type": "markdown",
   "metadata": {},
   "source": [
    "The test statistic and the p-value are returned by the kstest function. The p-value gives the probability of obtaining a test statistic as extreme or more extreme than the one calculated from the sample, under the assumption that the null hypothesis is true. If the p-value is less than a significance level, such as 0.05, the null hypothesis is rejected, and it can be concluded that the sample does not come from a normal distribution. If the p-value is greater than the significance level, the null hypothesis cannot be rejected, and it can be concluded that the sample may come from a normal distribution."
   ]
  },
  {
   "cell_type": "markdown",
   "metadata": {},
   "source": [
    "### Transformation Methods"
   ]
  },
  {
   "cell_type": "markdown",
   "metadata": {},
   "source": [
    "##### 1. Logarithmic transformation\n",
    "\n",
    "This is often used to transform right-skewed data into a more normal distribution. "
   ]
  },
  {
   "cell_type": "code",
   "execution_count": 10,
   "metadata": {},
   "outputs": [
    {
     "data": {
      "text/plain": [
       "array([0.        , 0.69314718, 1.38629436, 2.07944154, 2.77258872,\n",
       "       3.4657359 , 4.15888308])"
      ]
     },
     "execution_count": 10,
     "metadata": {},
     "output_type": "execute_result"
    }
   ],
   "source": [
    "import numpy as np\n",
    "\n",
    "data = [1, 2, 4, 8, 16, 32, 64]\n",
    "log_data = np.log(data)\n",
    "\n",
    "log_data"
   ]
  },
  {
   "cell_type": "markdown",
   "metadata": {},
   "source": [
    "##### 2. Square root transformation\n",
    "\n",
    "Similar to the logarithmic transformation, the square root transformation can be used to transform right-skewed data into a more normal distribution."
   ]
  },
  {
   "cell_type": "code",
   "execution_count": 11,
   "metadata": {},
   "outputs": [
    {
     "data": {
      "text/plain": [
       "array([1., 2., 3., 4., 5., 6., 7.])"
      ]
     },
     "execution_count": 11,
     "metadata": {},
     "output_type": "execute_result"
    }
   ],
   "source": [
    "import numpy as np\n",
    "\n",
    "data = [1, 4, 9, 16, 25, 36, 49]\n",
    "sqrt_data = np.sqrt(data)\n",
    "\n",
    "sqrt_data"
   ]
  },
  {
   "cell_type": "markdown",
   "metadata": {},
   "source": [
    "##### 3. Box-Cox transformation\n",
    "\n",
    "The Box-Cox transformation is a more flexible method for transforming data that can handle both positive and negative data and can transform data into a normal distribution.\n",
    "\n",
    "Here are some common use cases for the Box-Cox transformation:\n",
    "\n",
    "1. Improving the normality of the data: When the data is not normally distributed, the Box-Cox transformation can be used to make the distribution more normal. This can improve the validity of statistical tests and algorithms that assume normality.\n",
    "\n",
    "2. Handling data with outliers: The Box-Cox transformation can be used to reduce the impact of outliers in the data by transforming the outliers into a more normal distribution.\n",
    "\n",
    "3. Improving the interpretability of the data: The Box-Cox transformation can help to make the relationships between variables easier to interpret by transforming the data into a more normal distribution.\n",
    "\n",
    "4. Dealing with non-linear relationships: The Box-Cox transformation can help to linearize non-linear relationships between variables, making them easier to analyze and interpret."
   ]
  },
  {
   "cell_type": "code",
   "execution_count": 12,
   "metadata": {},
   "outputs": [
    {
     "data": {
      "text/plain": [
       "array([0.        , 0.69314718, 1.38629436, 2.07944155, 2.77258873,\n",
       "       3.46573591, 4.1588831 ])"
      ]
     },
     "execution_count": 12,
     "metadata": {},
     "output_type": "execute_result"
    }
   ],
   "source": [
    "from scipy import stats\n",
    "\n",
    "data = [1, 2, 4, 8, 16, 32, 64]\n",
    "transformed_data, _ = stats.boxcox(data)\n",
    "\n",
    "transformed_data"
   ]
  },
  {
   "cell_type": "markdown",
   "metadata": {},
   "source": [
    "##### 4. Z-score normalization\n",
    "\n",
    "This is a standardization method used to transform data so that it has a mean of 0 and a standard deviation of 1.\n",
    "\n",
    "The standardization process makes it easier to compare different variables, even if they have different scales, and also helps to reduce the impact of outliers on the analysis results.\n",
    "\n",
    "There are a few situations when Z-score normalization may be beneficial:\n",
    "\n",
    "1. When comparing variables with different scales: For example, if you have two variables, one with a range from 0 to 100, and another with a range from 0 to 1, normalizing the data to have a mean of 0 and a standard deviation of 1 makes it easier to compare the two variables.\n",
    "\n",
    "2. When dealing with non-normal data distributions: Some statistical methods, such as linear regression, assume that the data is normally distributed. Z-score normalization can be used to help make the data more normally distributed, which can improve the validity of the results.\n",
    "\n",
    "3. When using algorithms that are sensitive to scale: Some machine learning algorithms, such as K-Nearest Neighbors and Support Vector Machines, are sensitive to the scale of the input data. Z-score normalization can be used to make the scale of the data more uniform and reduce the impact of outliers on the results."
   ]
  },
  {
   "cell_type": "code",
   "execution_count": 17,
   "metadata": {},
   "outputs": [
    {
     "name": "stdout",
     "output_type": "stream",
     "text": [
      "18.142857142857142\n",
      "21.2362800847214\n",
      "[-0.80724388 -0.76015465 -0.6659762  -0.4776193  -0.10090549  0.65252214\n",
      "  2.15937738]\n",
      "1.0\n"
     ]
    }
   ],
   "source": [
    "import numpy as np\n",
    "\n",
    "data = [1, 2, 4, 8, 16, 32, 64]\n",
    "mean = np.mean(data)\n",
    "std = np.std(data)\n",
    "z_data = (data - mean) / std\n",
    "\n",
    "print(mean)\n",
    "print(std)\n",
    "print(z_data)\n",
    "\n",
    "mean = np.mean(z_data)\n",
    "std = np.std(z_data)\n",
    "\n",
    "print(std)\n"
   ]
  },
  {
   "cell_type": "code",
   "execution_count": null,
   "metadata": {},
   "outputs": [],
   "source": []
  },
  {
   "cell_type": "markdown",
   "metadata": {},
   "source": [
    "### Normal distribution"
   ]
  },
  {
   "cell_type": "markdown",
   "metadata": {},
   "source": [
    "The normal (or Gaussian) distribution is a continuous probability distribution that is symmetrical around the mean and characterized by its mean and standard deviation. It is commonly used to model many real-world phenomena, such as the distribution of heights or IQ scores, because it can approximate many types of data sets.\n",
    "\n",
    "The probability density function of the normal distribution is given by the following equation:\n",
    "\n",
    "f(x) = (1 / (sqrt(2 * pi * sigma^2))) * e^(-(x - mu)^2 / (2 * sigma^2))\n",
    "\n",
    "where mu is the mean, sigma is the standard deviation, and e is the base of the natural logarithm.\n",
    "\n",
    "The normal distribution has several useful properties, such as:\n",
    "\n",
    "1. The mean, median, and mode are equal.\n",
    "2. standard deviation is a measure of the spread of the distribution.\n",
    "3. roximately 68% of the data falls within one standard deviation of the mean, 95% within two standard deviations, and 99.7% within three standard deviations.\n",
    "4.  normal distribution is fully defined by its mean and standard deviation, making it a parameteric distribution.\n",
    "\n",
    "\n"
   ]
  },
  {
   "cell_type": "code",
   "execution_count": 19,
   "metadata": {},
   "outputs": [
    {
     "data": {
      "image/png": "[encoded data removed]",
      "text/plain": [
       "<Figure size 432x288 with 1 Axes>"
      ]
     },
     "metadata": {
      "needs_background": "light"
     },
     "output_type": "display_data"
    }
   ],
   "source": [
    "import numpy as np\n",
    "import matplotlib.pyplot as plt\n",
    "\n",
    "# Set the mean and standard deviation\n",
    "mean = 0\n",
    "std = 1\n",
    "\n",
    "# Generate the normal distribution\n",
    "x = np.random.normal(mean, std, 1000)\n",
    "\n",
    "# Plot the normal distribution\n",
    "plt.hist(x, bins=50, density=True)\n",
    "plt.show()\n"
   ]
  },
  {
   "cell_type": "code",
   "execution_count": null,
   "metadata": {},
   "outputs": [],
   "source": []
  }
 ],
 "metadata": {
  "kernelspec": {
   "display_name": "Python 3",
   "language": "python",
   "name": "python3"
  },
  "language_info": {
   "codemirror_mode": {
    "name": "ipython",
    "version": 3
   },
   "file_extension": ".py",
   "mimetype": "text/x-python",
   "name": "python",
   "nbconvert_exporter": "python",
   "pygments_lexer": "ipython3",
   "version": "3.7.4"
  }
 },
 "nbformat": 4,
 "nbformat_minor": 2
}
