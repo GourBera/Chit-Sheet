{
 "cells": [
  {
   "cell_type": "markdown",
   "metadata": {},
   "source": [
    "# Hypothesis"
   ]
  },
  {
   "cell_type": "markdown",
   "metadata": {},
   "source": [
    "Hypothesis refers to a statement or assumption about a phenomenon that can be tested using scientific methods. In scientific research, a hypothesis is a proposed explanation for an observation or phenomenon that can be tested through experimentation, observation, and data analysis.\n",
    "\n",
    "The process of forming a hypothesis usually starts with observation and background research, followed by formulating a question or problem, and then developing a statement or explanation that can be tested through data collection and analysis. The goal of hypothesis testing is to determine whether the hypothesis is supported or rejected based on the evidence.\n",
    "\n",
    "A well-formed hypothesis should be testable, falsifiable, and specific. It should also be clear and concise, and it should have the potential to be supported or rejected through empirical data.\n",
    "\n",
    "\n"
   ]
  },
  {
   "cell_type": "markdown",
   "metadata": {},
   "source": [
    "## Types of hypotheses"
   ]
  },
  {
   "cell_type": "markdown",
   "metadata": {},
   "source": [
    "1. null hypotheses, \n",
    "  \n",
    "  Null hypotheses state that there is no significant difference or relationship between two or more variables\n",
    "\n",
    "\n",
    "2. alternative hypotheses  \n",
    "  \n",
    "  Alternative hypotheses state that there is a significant difference or relationship.\n",
    "\n",
    "\n",
    "3. research hypotheses. \n",
    "  \n",
    "  Research hypotheses are more specific and detail the direction and nature of the expected relationship or difference between variables.\n"
   ]
  },
  {
   "cell_type": "markdown",
   "metadata": {},
   "source": [
    "## Various Hypotheses test"
   ]
  },
  {
   "cell_type": "markdown",
   "metadata": {},
   "source": [
    "1. t-test\n",
    "2. Z-tests\n",
    "3. ANOVA (Analysis of Variance)\n",
    "4. Chi-Square Tests\n",
    "5. Regression Analysis\n",
    "6. Non-parametric Tests\n"
   ]
  },
  {
   "cell_type": "markdown",
   "metadata": {},
   "source": [
    "### t-test"
   ]
  },
  {
   "cell_type": "markdown",
   "metadata": {},
   "source": [
    "A t-test is a statistical test that is used to determine whether the difference between\n",
    "the means of two groups is statistically significant. \n",
    "\n",
    "There are two types of t-tests: \n",
    "    1. Independent samples t-test (unrelated groups)\n",
    "    2. Paired samples t-test (related groups)\n",
    "    \n",
    "    \n",
    "The difference between independent samples t-test and paired samples t-test lies in the type of data being compared.\n",
    "\n",
    "An independent samples t-test is used to compare the means of two separate, unrelated groups. Each group is independent of the other, and the individuals within each group are also independent of each other. The groups are not related in any way, and there is no connection between the two groups.\n",
    "\n",
    "A paired samples t-test, on the other hand, is used to compare the means of two related groups. Each value in one group has a corresponding value in the other group, and the groups are considered \"paired\" because the individuals are related in some way. For example, you might use a paired samples t-test to compare the pre- and post-test scores of a group of individuals.\n",
    "\n",
    "In summary, the main difference between independent samples t-test and paired samples t-test is that the former is used to compare independent groups, while the latter is used to compare related or dependent groups.\n",
    "   "
   ]
  },
  {
   "cell_type": "markdown",
   "metadata": {},
   "source": [
    "Use Cases:\n",
    "\n",
    "1. Medical research: To compare the effectiveness of different treatments or interventions\n",
    "2. Marketing research: To compare the means of different product groups or market segments\n",
    "3. Educational research: To compare the means of different teaching methods or educational programs\n",
    "4. Psychological research: To compare the means of different therapeutic techniques or mental health interventions\n",
    "5. Sports research: To compare the performance of different training methods or athletes"
   ]
  },
  {
   "cell_type": "code",
   "execution_count": 11,
   "metadata": {},
   "outputs": [
    {
     "name": "stdout",
     "output_type": "stream",
     "text": [
      "T-Statistic: 0.9460998335825319\n",
      "P-Value: 0.37179326080163555\n",
      "Fail to reject the null hypothesis.\n",
      "The means of the two samples are not significantly different.\n"
     ]
    }
   ],
   "source": [
    "import scipy.stats as stats\n",
    "\n",
    "\n",
    "group1 = [7, 8, 9, 2, 4]\n",
    "group2 = [1, 6, 5, 3, 7]\n",
    "\n",
    "t_statistic, p_value = stats.ttest_ind(group1, group2)\n",
    "\n",
    "# # Generate two samples of data from different populations\n",
    "# sample1 = stats.norm.rvs(loc=10, scale=1, size=100)\n",
    "# sample2 = stats.norm.rvs(loc=11, scale=1, size=100)\n",
    "\n",
    "# # Conduct an independent samples t-test to compare the means of the two samples\n",
    "# t_test_result = stats.ttest_ind(sample1, sample2)\n",
    "\n",
    "# # Extract the t-statistic and p-value from the t-test result\n",
    "# t_statistic = t_test_result.statistic\n",
    "# p_value = t_test_result.pvalue\n",
    "\n",
    "# Print the results\n",
    "print(f\"T-Statistic: {t_statistic}\")\n",
    "print(f\"P-Value: {p_value}\")\n",
    "\n",
    "# Interpret the results\n",
    "if p_value < 0.05:\n",
    "    print(\"Reject the null hypothesis.\")\n",
    "    print(\"The means of the two samples are significantly different.\")\n",
    "else:\n",
    "    print(\"Fail to reject the null hypothesis.\")\n",
    "    print(\"The means of the two samples are not significantly different.\")\n"
   ]
  },
  {
   "cell_type": "markdown",
   "metadata": {},
   "source": [
    "In this code, two samples of data are generated from different populations, \n",
    "and an independent samples t-test is conducted to compare the means of the two samples. \n",
    "\n",
    "The t-test results are then printed along with the t-statistic and p-value. \n",
    "Finally, the results are interpreted based on the p-value. If the p-value is less than 0.05, the null hypothesis is rejected, \n",
    "and it is concluded that the means of the two samples are significantly different. \n",
    "\n",
    "If the p-value is greater than or equal to 0.05, the null hypothesis is not rejected, \n",
    "and it is concluded that the means of the two samples are not significantly different.\n"
   ]
  },
  {
   "cell_type": "markdown",
   "metadata": {},
   "source": [
    "#### Example"
   ]
  },
  {
   "cell_type": "markdown",
   "metadata": {},
   "source": [
    "Suppose a researcher wants to determine if there is a significant difference in the reading scores of students who receive a new reading program (Group A) and students who receive the traditional reading program (Group B). The reading scores of 20 students from Group A and 25 students from Group B are collected and recorded. The mean reading score for Group A is 80 and the mean reading score for Group B is 75. The standard deviations for both groups are 5 and 4, respectively.\n",
    "\n",
    "To perform a t-test, the following steps can be taken:\n",
    "\n",
    "1. State the null hypothesis (H0): There is no significant difference in the reading scores of students in Group A and Group B.\n",
    "2. State the alternate hypothesis (Ha): There is a significant difference in the reading scores of students in Group A and Group B.\n",
    "3. Determine the t-statistic: t = (mean(A) - mean(B)) / sqrt((s^2 / n1) + (s^2 / n2)), where n1 is the sample size of Group A, n2 is the sample size of Group B, mean(A) and mean(B) are the mean scores of each group, and s is the pooled standard deviation.\n",
    "4. Calculate the degrees of freedom (df): df = n1 + n2 - 2\n",
    "5. Determine the critical value using the t-distribution table for a significance level of 0.05 and df = 45 (n1 + n2 - 2)\n",
    "6. Compare the calculated t-statistic to the critical value. If the t-statistic is greater than the critical value, reject the null hypothesis and accept the alternate hypothesis. If the t-statistic is less than the critical value, fail to reject the null hypothesis.\n",
    "\n",
    "In this example, if the calculated t-statistic is greater than the critical value, it can be concluded that there is a significant difference in the reading scores of students who receive the new reading program and students who receive the traditional reading program.\n",
    "\n"
   ]
  },
  {
   "cell_type": "code",
   "execution_count": 13,
   "metadata": {},
   "outputs": [
    {
     "name": "stdout",
     "output_type": "stream",
     "text": [
      "t-statistic:  7.034739149736234\n",
      "p-value:  1.146104401286446e-08\n",
      "Reject the null hypothesis.\n",
      "The means of the two samples are significantly different.\n"
     ]
    }
   ],
   "source": [
    "import numpy as np\n",
    "from scipy import stats\n",
    "\n",
    "group_a = [75, 80, 75, 80, 80, 75, 80, 75, 80, 80, 75, 80, 75, 80, 80, 75, 80, 75, 80, 80]\n",
    "group_b = [70, 75, 70, 75, 75, 70, 75, 70, 75, 75, 70, 75, 70, 75, 75, 70, 75, 70, 75, 75, 70, 75, 70, 75, 70]\n",
    "\n",
    "mean_a = np.mean(group_a)\n",
    "mean_b = np.mean(group_b)\n",
    "std_a = np.std(group_a)\n",
    "std_b = np.std(group_b)\n",
    "n1 = len(group_a)\n",
    "n2 = len(group_b)\n",
    "\n",
    "t_statistic = (mean_a - mean_b) / np.sqrt((std_a ** 2 / n1) + (std_b ** 2 / n2))\n",
    "degrees_of_freedom = n1 + n2 - 2\n",
    "\n",
    "p_value = stats.t.sf(np.abs(t_statistic), degrees_of_freedom) * 2\n",
    "\n",
    "print(\"t-statistic: \", t_statistic)\n",
    "print(\"p-value: \", p_value)\n",
    "\n",
    "# Interpret the results\n",
    "if p_value < 0.05:\n",
    "    print(\"Reject the null hypothesis.\")\n",
    "    print(\"The means of the two samples are significantly different.\")\n",
    "else:\n",
    "    print(\"Fail to reject the null hypothesis.\")\n",
    "    print(\"The means of the two samples are not significantly different.\")\n"
   ]
  },
  {
   "cell_type": "markdown",
   "metadata": {},
   "source": [
    "In this code, the t-statistic is calculated by subtracting the means of two groups, and then dividing by the standard error. The standard error is calculated as the square root of the sum of the variances of each group divided by their respective sample size. The degrees of freedom are calculated by adding the sample sizes of the two groups and subtracting 2. The p-value is calculated using the survival function of the t-distribution (stats.t.sf) and is multiplied by 2 to obtain a two-tailed p-value.\n",
    "\n"
   ]
  },
  {
   "cell_type": "markdown",
   "metadata": {},
   "source": [
    "### Z-tests"
   ]
  },
  {
   "cell_type": "markdown",
   "metadata": {},
   "source": [
    "A Z-test is a statistical test used to compare the mean of a sample to a known population mean, assuming \n",
    "the population standard deviation is known. The Z-test is used when the sample size is large (n >= 30), \n",
    "and the population standard deviation is known.\n",
    "\n",
    "The Z-statistic measures the difference between the sample mean and the population mean in units of standard deviation, \n",
    "while the p-value indicates the probability of observing the Z-statistic assuming the null hypothesis of equal means is true. \n",
    "\n",
    "A p-value of less than 0.05 is often considered significant and suggests that the sample mean is significantly different from the population mean.\n",
    "\n",
    "\n",
    "Use Cases:\n",
    "\n",
    "Proportion test: \n",
    "   \n",
    "A Z-test can be used to compare the observed proportion of successes in a sample to an expected proportion in a population. For example, a survey is conducted to determine if the proportion of people who support a new policy is different from the national average of 50%. A sample of 100 people is taken and 55% of them support the policy. The Z-test can be used to determine if the difference between the observed proportion (0.55) and the expected proportion (0.5) is statistically significant.\n",
    "\n",
    "Mean test: \n",
    "\n",
    "A Z-test can be used to test the difference between an observed sample mean and a population mean. For example, a manufacturer claims that the average weight of their products is 10 pounds. A sample of 25 products is taken and the average weight is found to be 9.8 pounds. The Z-test can be used to determine if the difference between the observed mean (9.8) and the claimed mean (10) is statistically significant.\n",
    "\n",
    "Single population mean: \n",
    "\n",
    "A Z-test can be used to test if a sample mean is significantly different from a known population mean. For example, the average height of adult men in the US is known to be 69 inches. A sample of 50 men is taken and the average height is found to be 68 inches. The Z-test can be used to determine if the difference between the observed mean (68) and the population mean (69) is statistically significant.\n",
    "\n",
    "Two population means: \n",
    "\n",
    "A Z-test can be used to test if the means of two independent samples are significantly different. For example, a researcher wants to compare the average height of men and women. A sample of 50 men and 50 women is taken and the average heights are found to be 68 inches and 65 inches respectively. The Z-test can be used to determine if the difference between the two means is statistically significant.\n"
   ]
  },
  {
   "cell_type": "code",
   "execution_count": 10,
   "metadata": {},
   "outputs": [
    {
     "name": "stdout",
     "output_type": "stream",
     "text": [
      "z-statistic:  1.4907119849998598\n",
      "p-value:  0.13603712811414362\n",
      "Fail to reject the null hypothesis.\n",
      "The means of the two samples are not significantly different.\n"
     ]
    }
   ],
   "source": [
    "import numpy as np\n",
    "from scipy import stats\n",
    "\n",
    "\n",
    "sample = [7, 8, 9, 2, 4]\n",
    "population_mean = 5\n",
    "population_stddev = 1.5\n",
    "\n",
    "z_statistic = (np.mean(sample) - population_mean) / (population_stddev / np.sqrt(len(sample)))\n",
    "p_value = stats.norm.sf(abs(z_statistic)) * 2\n",
    "\n",
    "print(\"z-statistic: \", z_statistic)\n",
    "print(\"p-value: \", p_value)\n",
    "\n",
    "# Interpret the results\n",
    "if p_value < 0.05:\n",
    "    print(\"Reject the null hypothesis.\")\n",
    "    print(\"The means of the two samples are significantly different.\")\n",
    "else:\n",
    "    print(\"Fail to reject the null hypothesis.\")\n",
    "    print(\"The means of the two samples are not significantly different.\")\n"
   ]
  },
  {
   "cell_type": "code",
   "execution_count": null,
   "metadata": {},
   "outputs": [],
   "source": []
  }
 ],
 "metadata": {
  "kernelspec": {
   "display_name": "Python 3",
   "language": "python",
   "name": "python3"
  },
  "language_info": {
   "codemirror_mode": {
    "name": "ipython",
    "version": 3
   },
   "file_extension": ".py",
   "mimetype": "text/x-python",
   "name": "python",
   "nbconvert_exporter": "python",
   "pygments_lexer": "ipython3",
   "version": "3.7.4"
  }
 },
 "nbformat": 4,
 "nbformat_minor": 2
}
