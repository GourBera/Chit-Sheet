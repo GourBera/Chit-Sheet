{
 "cells": [
  {
   "cell_type": "code",
   "execution_count": 198,
   "metadata": {},
   "outputs": [],
   "source": [
    "import pandas as pd\n",
    "\n",
    "\n",
    "Visits_q_limit = 2000\n",
    "next_cycle_value = 5"
   ]
  },
  {
   "cell_type": "code",
   "execution_count": 199,
   "metadata": {},
   "outputs": [
    {
     "name": "stdout",
     "output_type": "stream",
     "text": [
      "<class 'pandas.core.frame.DataFrame'>\n",
      "RangeIndex: 43 entries, 0 to 42\n",
      "Data columns (total 6 columns):\n",
      "country     43 non-null object\n",
      "Year        43 non-null int64\n",
      "Month       43 non-null int64\n",
      "sales       41 non-null float64\n",
      "quantity    36 non-null float64\n",
      "price       40 non-null float64\n",
      "dtypes: float64(3), int64(2), object(1)\n",
      "memory usage: 2.1+ KB\n"
     ]
    }
   ],
   "source": [
    "sales = pd.read_csv(\"sales.csv\")\n",
    "\n",
    "sales.info()"
   ]
  },
  {
   "cell_type": "code",
   "execution_count": 200,
   "metadata": {},
   "outputs": [
    {
     "data": {
      "text/html": [
       "<div>\n",
       "<style scoped>\n",
       "    .dataframe tbody tr th:only-of-type {\n",
       "        vertical-align: middle;\n",
       "    }\n",
       "\n",
       "    .dataframe tbody tr th {\n",
       "        vertical-align: top;\n",
       "    }\n",
       "\n",
       "    .dataframe thead th {\n",
       "        text-align: right;\n",
       "    }\n",
       "</style>\n",
       "<table border=\"1\" class=\"dataframe\">\n",
       "  <thead>\n",
       "    <tr style=\"text-align: right;\">\n",
       "      <th></th>\n",
       "      <th>country</th>\n",
       "      <th>Year</th>\n",
       "      <th>Month</th>\n",
       "      <th>sales</th>\n",
       "      <th>quantity</th>\n",
       "      <th>price</th>\n",
       "    </tr>\n",
       "  </thead>\n",
       "  <tbody>\n",
       "    <tr>\n",
       "      <td>0</td>\n",
       "      <td>India</td>\n",
       "      <td>2021</td>\n",
       "      <td>1</td>\n",
       "      <td>12075.0</td>\n",
       "      <td>175.0</td>\n",
       "      <td>69.0</td>\n",
       "    </tr>\n",
       "    <tr>\n",
       "      <td>1</td>\n",
       "      <td>India</td>\n",
       "      <td>2021</td>\n",
       "      <td>2</td>\n",
       "      <td>2120.0</td>\n",
       "      <td>53.0</td>\n",
       "      <td>40.0</td>\n",
       "    </tr>\n",
       "    <tr>\n",
       "      <td>2</td>\n",
       "      <td>India</td>\n",
       "      <td>2021</td>\n",
       "      <td>3</td>\n",
       "      <td>2880.0</td>\n",
       "      <td>180.0</td>\n",
       "      <td>16.0</td>\n",
       "    </tr>\n",
       "    <tr>\n",
       "      <td>3</td>\n",
       "      <td>India</td>\n",
       "      <td>2021</td>\n",
       "      <td>4</td>\n",
       "      <td>19305.0</td>\n",
       "      <td>195.0</td>\n",
       "      <td>99.0</td>\n",
       "    </tr>\n",
       "    <tr>\n",
       "      <td>4</td>\n",
       "      <td>India</td>\n",
       "      <td>2021</td>\n",
       "      <td>5</td>\n",
       "      <td>NaN</td>\n",
       "      <td>NaN</td>\n",
       "      <td>95.0</td>\n",
       "    </tr>\n",
       "  </tbody>\n",
       "</table>\n",
       "</div>"
      ],
      "text/plain": [
       "  country  Year  Month    sales  quantity  price\n",
       "0   India  2021      1  12075.0     175.0   69.0\n",
       "1   India  2021      2   2120.0      53.0   40.0\n",
       "2   India  2021      3   2880.0     180.0   16.0\n",
       "3   India  2021      4  19305.0     195.0   99.0\n",
       "4   India  2021      5      NaN       NaN   95.0"
      ]
     },
     "execution_count": 200,
     "metadata": {},
     "output_type": "execute_result"
    }
   ],
   "source": [
    "sales.head()"
   ]
  },
  {
   "cell_type": "code",
   "execution_count": 201,
   "metadata": {},
   "outputs": [
    {
     "name": "stdout",
     "output_type": "stream",
     "text": [
      "<class 'pandas.core.frame.DataFrame'>\n",
      "RangeIndex: 43 entries, 0 to 42\n",
      "Data columns (total 6 columns):\n",
      "country       43 non-null object\n",
      "Year          43 non-null int64\n",
      "Month         43 non-null int64\n",
      "Visits        43 non-null int64\n",
      "spend         43 non-null int64\n",
      "page_views    43 non-null int64\n",
      "dtypes: int64(5), object(1)\n",
      "memory usage: 2.1+ KB\n"
     ]
    }
   ],
   "source": [
    "visits = pd.read_csv(\"visits.csv\")\n",
    "\n",
    "visits.info()"
   ]
  },
  {
   "cell_type": "code",
   "execution_count": 202,
   "metadata": {},
   "outputs": [
    {
     "data": {
      "text/html": [
       "<div>\n",
       "<style scoped>\n",
       "    .dataframe tbody tr th:only-of-type {\n",
       "        vertical-align: middle;\n",
       "    }\n",
       "\n",
       "    .dataframe tbody tr th {\n",
       "        vertical-align: top;\n",
       "    }\n",
       "\n",
       "    .dataframe thead th {\n",
       "        text-align: right;\n",
       "    }\n",
       "</style>\n",
       "<table border=\"1\" class=\"dataframe\">\n",
       "  <thead>\n",
       "    <tr style=\"text-align: right;\">\n",
       "      <th></th>\n",
       "      <th>country</th>\n",
       "      <th>Year</th>\n",
       "      <th>Month</th>\n",
       "      <th>Visits</th>\n",
       "      <th>spend</th>\n",
       "      <th>page_views</th>\n",
       "    </tr>\n",
       "  </thead>\n",
       "  <tbody>\n",
       "    <tr>\n",
       "      <td>0</td>\n",
       "      <td>India</td>\n",
       "      <td>2021</td>\n",
       "      <td>1</td>\n",
       "      <td>6630</td>\n",
       "      <td>170</td>\n",
       "      <td>39</td>\n",
       "    </tr>\n",
       "    <tr>\n",
       "      <td>1</td>\n",
       "      <td>India</td>\n",
       "      <td>2021</td>\n",
       "      <td>2</td>\n",
       "      <td>3672</td>\n",
       "      <td>102</td>\n",
       "      <td>36</td>\n",
       "    </tr>\n",
       "    <tr>\n",
       "      <td>2</td>\n",
       "      <td>India</td>\n",
       "      <td>2021</td>\n",
       "      <td>3</td>\n",
       "      <td>1520</td>\n",
       "      <td>38</td>\n",
       "      <td>40</td>\n",
       "    </tr>\n",
       "    <tr>\n",
       "      <td>3</td>\n",
       "      <td>India</td>\n",
       "      <td>2021</td>\n",
       "      <td>4</td>\n",
       "      <td>4368</td>\n",
       "      <td>78</td>\n",
       "      <td>56</td>\n",
       "    </tr>\n",
       "    <tr>\n",
       "      <td>4</td>\n",
       "      <td>India</td>\n",
       "      <td>2021</td>\n",
       "      <td>5</td>\n",
       "      <td>6708</td>\n",
       "      <td>172</td>\n",
       "      <td>39</td>\n",
       "    </tr>\n",
       "  </tbody>\n",
       "</table>\n",
       "</div>"
      ],
      "text/plain": [
       "  country  Year  Month  Visits  spend  page_views\n",
       "0   India  2021      1    6630    170          39\n",
       "1   India  2021      2    3672    102          36\n",
       "2   India  2021      3    1520     38          40\n",
       "3   India  2021      4    4368     78          56\n",
       "4   India  2021      5    6708    172          39"
      ]
     },
     "execution_count": 202,
     "metadata": {},
     "output_type": "execute_result"
    }
   ],
   "source": [
    "visits.head()"
   ]
  },
  {
   "cell_type": "markdown",
   "metadata": {},
   "source": [
    "\"\"\"\n",
    "Files:\n",
    "    sales: country,Year,Month,sales,quantity,price\n",
    "    visits: country,Year,Month,Visits,spend,page_views\n",
    "Questions:\n",
    "1. Sales file : Indentify and handle missing values (how many rows, by column) by replacing with mean \n",
    "2. Combine both sales and visits files into one master file \n",
    "3. Build python function named, 'new_metric', and do the following:\n",
    "     - Python function:\n",
    "        - Input: master combined file\n",
    "        - Output: new data frame with conditions as mentioned above\n",
    "        a. Find visits > 2000 and replace data with .999 \n",
    "4. Peform exception handling for newly created function?\n",
    "5. Peform unit testing for newly created function?\n",
    "6. Create a class and explain?\n",
    "\"\"\""
   ]
  },
  {
   "cell_type": "code",
   "execution_count": 203,
   "metadata": {},
   "outputs": [
    {
     "name": "stdout",
     "output_type": "stream",
     "text": [
      "<class 'pandas.core.frame.DataFrame'>\n",
      "RangeIndex: 43 entries, 0 to 42\n",
      "Data columns (total 6 columns):\n",
      "country     43 non-null object\n",
      "Year        43 non-null int64\n",
      "Month       43 non-null int64\n",
      "sales       41 non-null float64\n",
      "quantity    36 non-null float64\n",
      "price       40 non-null float64\n",
      "dtypes: float64(3), int64(2), object(1)\n",
      "memory usage: 2.1+ KB\n"
     ]
    }
   ],
   "source": [
    "sales.info()"
   ]
  },
  {
   "cell_type": "code",
   "execution_count": 204,
   "metadata": {},
   "outputs": [],
   "source": [
    "sales_col = list(sales)"
   ]
  },
  {
   "cell_type": "code",
   "execution_count": 205,
   "metadata": {},
   "outputs": [
    {
     "data": {
      "text/plain": [
       "country     0\n",
       "Year        0\n",
       "Month       0\n",
       "sales       2\n",
       "quantity    7\n",
       "price       3\n",
       "dtype: int64"
      ]
     },
     "execution_count": 205,
     "metadata": {},
     "output_type": "execute_result"
    }
   ],
   "source": [
    "sales.isna().sum()"
   ]
  },
  {
   "cell_type": "code",
   "execution_count": 206,
   "metadata": {},
   "outputs": [
    {
     "data": {
      "text/html": [
       "<div>\n",
       "<style scoped>\n",
       "    .dataframe tbody tr th:only-of-type {\n",
       "        vertical-align: middle;\n",
       "    }\n",
       "\n",
       "    .dataframe tbody tr th {\n",
       "        vertical-align: top;\n",
       "    }\n",
       "\n",
       "    .dataframe thead th {\n",
       "        text-align: right;\n",
       "    }\n",
       "</style>\n",
       "<table border=\"1\" class=\"dataframe\">\n",
       "  <thead>\n",
       "    <tr style=\"text-align: right;\">\n",
       "      <th></th>\n",
       "      <th>country</th>\n",
       "      <th>Year</th>\n",
       "      <th>Month</th>\n",
       "      <th>sales</th>\n",
       "      <th>quantity</th>\n",
       "      <th>price</th>\n",
       "      <th>Visits</th>\n",
       "      <th>spend</th>\n",
       "      <th>page_views</th>\n",
       "    </tr>\n",
       "  </thead>\n",
       "  <tbody>\n",
       "    <tr>\n",
       "      <td>0</td>\n",
       "      <td>India</td>\n",
       "      <td>2021</td>\n",
       "      <td>1</td>\n",
       "      <td>12075.0</td>\n",
       "      <td>175.0</td>\n",
       "      <td>69.0</td>\n",
       "      <td>6630</td>\n",
       "      <td>170</td>\n",
       "      <td>39</td>\n",
       "    </tr>\n",
       "    <tr>\n",
       "      <td>1</td>\n",
       "      <td>India</td>\n",
       "      <td>2021</td>\n",
       "      <td>2</td>\n",
       "      <td>2120.0</td>\n",
       "      <td>53.0</td>\n",
       "      <td>40.0</td>\n",
       "      <td>3672</td>\n",
       "      <td>102</td>\n",
       "      <td>36</td>\n",
       "    </tr>\n",
       "  </tbody>\n",
       "</table>\n",
       "</div>"
      ],
      "text/plain": [
       "  country  Year  Month    sales  quantity  price  Visits  spend  page_views\n",
       "0   India  2021      1  12075.0     175.0   69.0    6630    170          39\n",
       "1   India  2021      2   2120.0      53.0   40.0    3672    102          36"
      ]
     },
     "execution_count": 206,
     "metadata": {},
     "output_type": "execute_result"
    }
   ],
   "source": [
    "master = sales.merge(visits, how=\"inner\", sort=True)\n",
    "master.head(2)\n"
   ]
  },
  {
   "cell_type": "code",
   "execution_count": 207,
   "metadata": {},
   "outputs": [
    {
     "name": "stdout",
     "output_type": "stream",
     "text": [
      "(43, 6)\n",
      "(43, 6)\n",
      "(59, 9)\n"
     ]
    }
   ],
   "source": [
    "print(sales.shape)\n",
    "print(visits.shape)\n",
    "print(master.shape)"
   ]
  },
  {
   "cell_type": "code",
   "execution_count": 208,
   "metadata": {},
   "outputs": [
    {
     "data": {
      "text/html": [
       "<div>\n",
       "<style scoped>\n",
       "    .dataframe tbody tr th:only-of-type {\n",
       "        vertical-align: middle;\n",
       "    }\n",
       "\n",
       "    .dataframe tbody tr th {\n",
       "        vertical-align: top;\n",
       "    }\n",
       "\n",
       "    .dataframe thead th {\n",
       "        text-align: right;\n",
       "    }\n",
       "</style>\n",
       "<table border=\"1\" class=\"dataframe\">\n",
       "  <thead>\n",
       "    <tr style=\"text-align: right;\">\n",
       "      <th></th>\n",
       "      <th>country</th>\n",
       "      <th>Year</th>\n",
       "      <th>Month</th>\n",
       "      <th>sales</th>\n",
       "      <th>quantity</th>\n",
       "      <th>price</th>\n",
       "      <th>Visits</th>\n",
       "      <th>spend</th>\n",
       "      <th>page_views</th>\n",
       "    </tr>\n",
       "  </thead>\n",
       "  <tbody>\n",
       "    <tr>\n",
       "      <td>0</td>\n",
       "      <td>India</td>\n",
       "      <td>2021</td>\n",
       "      <td>1</td>\n",
       "      <td>12075.0</td>\n",
       "      <td>175.0</td>\n",
       "      <td>69.0</td>\n",
       "      <td>6630</td>\n",
       "      <td>170</td>\n",
       "      <td>39</td>\n",
       "    </tr>\n",
       "    <tr>\n",
       "      <td>1</td>\n",
       "      <td>India</td>\n",
       "      <td>2021</td>\n",
       "      <td>2</td>\n",
       "      <td>2120.0</td>\n",
       "      <td>53.0</td>\n",
       "      <td>40.0</td>\n",
       "      <td>3672</td>\n",
       "      <td>102</td>\n",
       "      <td>36</td>\n",
       "    </tr>\n",
       "  </tbody>\n",
       "</table>\n",
       "</div>"
      ],
      "text/plain": [
       "  country  Year  Month    sales  quantity  price  Visits  spend  page_views\n",
       "0   India  2021      1  12075.0     175.0   69.0    6630    170          39\n",
       "1   India  2021      2   2120.0      53.0   40.0    3672    102          36"
      ]
     },
     "execution_count": 208,
     "metadata": {},
     "output_type": "execute_result"
    }
   ],
   "source": [
    "master = pd.merge(\n",
    "    sales,\n",
    "    visits,\n",
    "    on=['country', 'Year', 'Month'],\n",
    "    suffixes=('_left', '_right'),\n",
    "    how=\"inner\",\n",
    "    sort=True)\n",
    "\n",
    "master.head(2)"
   ]
  },
  {
   "cell_type": "code",
   "execution_count": null,
   "metadata": {},
   "outputs": [],
   "source": []
  },
  {
   "cell_type": "code",
   "execution_count": 209,
   "metadata": {},
   "outputs": [
    {
     "data": {
      "text/html": [
       "<div>\n",
       "<style scoped>\n",
       "    .dataframe tbody tr th:only-of-type {\n",
       "        vertical-align: middle;\n",
       "    }\n",
       "\n",
       "    .dataframe tbody tr th {\n",
       "        vertical-align: top;\n",
       "    }\n",
       "\n",
       "    .dataframe thead th {\n",
       "        text-align: right;\n",
       "    }\n",
       "</style>\n",
       "<table border=\"1\" class=\"dataframe\">\n",
       "  <thead>\n",
       "    <tr style=\"text-align: right;\">\n",
       "      <th></th>\n",
       "      <th>country_left</th>\n",
       "      <th>Year_left</th>\n",
       "      <th>Month_left</th>\n",
       "      <th>sales</th>\n",
       "      <th>quantity</th>\n",
       "      <th>price</th>\n",
       "      <th>country_right</th>\n",
       "      <th>Year_right</th>\n",
       "      <th>Month_right</th>\n",
       "      <th>Visits</th>\n",
       "      <th>spend</th>\n",
       "      <th>page_views</th>\n",
       "    </tr>\n",
       "  </thead>\n",
       "  <tbody>\n",
       "    <tr>\n",
       "      <td>0</td>\n",
       "      <td>India</td>\n",
       "      <td>2021</td>\n",
       "      <td>1</td>\n",
       "      <td>12075.0</td>\n",
       "      <td>175.0</td>\n",
       "      <td>69.0</td>\n",
       "      <td>India</td>\n",
       "      <td>2021</td>\n",
       "      <td>1</td>\n",
       "      <td>6630</td>\n",
       "      <td>170</td>\n",
       "      <td>39</td>\n",
       "    </tr>\n",
       "    <tr>\n",
       "      <td>1</td>\n",
       "      <td>India</td>\n",
       "      <td>2021</td>\n",
       "      <td>2</td>\n",
       "      <td>2120.0</td>\n",
       "      <td>53.0</td>\n",
       "      <td>40.0</td>\n",
       "      <td>India</td>\n",
       "      <td>2021</td>\n",
       "      <td>2</td>\n",
       "      <td>3672</td>\n",
       "      <td>102</td>\n",
       "      <td>36</td>\n",
       "    </tr>\n",
       "  </tbody>\n",
       "</table>\n",
       "</div>"
      ],
      "text/plain": [
       "  country_left  Year_left  Month_left    sales  quantity  price country_right  \\\n",
       "0        India       2021           1  12075.0     175.0   69.0         India   \n",
       "1        India       2021           2   2120.0      53.0   40.0         India   \n",
       "\n",
       "   Year_right  Month_right  Visits  spend  page_views  \n",
       "0        2021            1    6630    170          39  \n",
       "1        2021            2    3672    102          36  "
      ]
     },
     "execution_count": 209,
     "metadata": {},
     "output_type": "execute_result"
    }
   ],
   "source": [
    "# master = sales.join(visits) \n",
    "\n",
    "\"\"\"\n",
    "# ERROR len(left_on) must equal the number of levels in the index of 'right'\" \n",
    "\n",
    "# To resolve this error, we need to make sure that the number of join keys specified in the left_on parameter matches \n",
    "the number of levels in the index of the right DataFrame. Alternatively, you can use the right_on parameter to \n",
    "specify the join keys for the right DataFrame.\n",
    "\n",
    "\"\"\"\n",
    "master = sales.join(\n",
    "    visits,\n",
    "    # Wont Work on=['country'],\n",
    "    lsuffix='_left',\n",
    "    rsuffix='_right',\n",
    "    how=\"inner\",\n",
    "    sort=True)\n",
    "\n",
    "master.head(2)"
   ]
  },
  {
   "cell_type": "code",
   "execution_count": 210,
   "metadata": {},
   "outputs": [
    {
     "data": {
      "text/html": [
       "<div>\n",
       "<style scoped>\n",
       "    .dataframe tbody tr th:only-of-type {\n",
       "        vertical-align: middle;\n",
       "    }\n",
       "\n",
       "    .dataframe tbody tr th {\n",
       "        vertical-align: top;\n",
       "    }\n",
       "\n",
       "    .dataframe thead th {\n",
       "        text-align: right;\n",
       "    }\n",
       "</style>\n",
       "<table border=\"1\" class=\"dataframe\">\n",
       "  <thead>\n",
       "    <tr style=\"text-align: right;\">\n",
       "      <th></th>\n",
       "      <th>Month</th>\n",
       "      <th>Visits</th>\n",
       "      <th>Year</th>\n",
       "      <th>country</th>\n",
       "      <th>page_views</th>\n",
       "      <th>price</th>\n",
       "      <th>quantity</th>\n",
       "      <th>sales</th>\n",
       "      <th>spend</th>\n",
       "    </tr>\n",
       "  </thead>\n",
       "  <tbody>\n",
       "    <tr>\n",
       "      <td>0</td>\n",
       "      <td>1</td>\n",
       "      <td>NaN</td>\n",
       "      <td>2021</td>\n",
       "      <td>India</td>\n",
       "      <td>NaN</td>\n",
       "      <td>69.0</td>\n",
       "      <td>175.0</td>\n",
       "      <td>12075.0</td>\n",
       "      <td>NaN</td>\n",
       "    </tr>\n",
       "    <tr>\n",
       "      <td>1</td>\n",
       "      <td>2</td>\n",
       "      <td>NaN</td>\n",
       "      <td>2021</td>\n",
       "      <td>India</td>\n",
       "      <td>NaN</td>\n",
       "      <td>40.0</td>\n",
       "      <td>53.0</td>\n",
       "      <td>2120.0</td>\n",
       "      <td>NaN</td>\n",
       "    </tr>\n",
       "  </tbody>\n",
       "</table>\n",
       "</div>"
      ],
      "text/plain": [
       "   Month  Visits  Year country  page_views  price  quantity    sales  spend\n",
       "0      1     NaN  2021   India         NaN   69.0     175.0  12075.0    NaN\n",
       "1      2     NaN  2021   India         NaN   40.0      53.0   2120.0    NaN"
      ]
     },
     "execution_count": 210,
     "metadata": {},
     "output_type": "execute_result"
    }
   ],
   "source": [
    "master = sales.append(visits, ignore_index=True, sort=True)\n",
    "master.head(2)"
   ]
  },
  {
   "cell_type": "code",
   "execution_count": 211,
   "metadata": {},
   "outputs": [
    {
     "name": "stdout",
     "output_type": "stream",
     "text": [
      "(43, 6)\n",
      "(43, 6)\n",
      "(86, 9)\n"
     ]
    }
   ],
   "source": [
    "print(sales.shape)\n",
    "print(visits.shape)\n",
    "print(master.shape)"
   ]
  },
  {
   "cell_type": "code",
   "execution_count": 221,
   "metadata": {},
   "outputs": [
    {
     "data": {
      "text/html": [
       "<div>\n",
       "<style scoped>\n",
       "    .dataframe tbody tr th:only-of-type {\n",
       "        vertical-align: middle;\n",
       "    }\n",
       "\n",
       "    .dataframe tbody tr th {\n",
       "        vertical-align: top;\n",
       "    }\n",
       "\n",
       "    .dataframe thead th {\n",
       "        text-align: right;\n",
       "    }\n",
       "</style>\n",
       "<table border=\"1\" class=\"dataframe\">\n",
       "  <thead>\n",
       "    <tr style=\"text-align: right;\">\n",
       "      <th></th>\n",
       "      <th>Month</th>\n",
       "      <th>Visits</th>\n",
       "      <th>Year</th>\n",
       "      <th>country</th>\n",
       "      <th>page_views</th>\n",
       "      <th>price</th>\n",
       "      <th>quantity</th>\n",
       "      <th>sales</th>\n",
       "      <th>spend</th>\n",
       "    </tr>\n",
       "  </thead>\n",
       "  <tbody>\n",
       "    <tr>\n",
       "      <td>0</td>\n",
       "      <td>1</td>\n",
       "      <td>NaN</td>\n",
       "      <td>2021</td>\n",
       "      <td>India</td>\n",
       "      <td>NaN</td>\n",
       "      <td>69.0</td>\n",
       "      <td>175.0</td>\n",
       "      <td>12075.0</td>\n",
       "      <td>NaN</td>\n",
       "    </tr>\n",
       "    <tr>\n",
       "      <td>1</td>\n",
       "      <td>2</td>\n",
       "      <td>NaN</td>\n",
       "      <td>2021</td>\n",
       "      <td>India</td>\n",
       "      <td>NaN</td>\n",
       "      <td>40.0</td>\n",
       "      <td>53.0</td>\n",
       "      <td>2120.0</td>\n",
       "      <td>NaN</td>\n",
       "    </tr>\n",
       "  </tbody>\n",
       "</table>\n",
       "</div>"
      ],
      "text/plain": [
       "   Month  Visits  Year country  page_views  price  quantity    sales  spend\n",
       "0      1     NaN  2021   India         NaN   69.0     175.0  12075.0    NaN\n",
       "1      2     NaN  2021   India         NaN   40.0      53.0   2120.0    NaN"
      ]
     },
     "execution_count": 221,
     "metadata": {},
     "output_type": "execute_result"
    }
   ],
   "source": [
    "master = pd.concat([sales, visits], ignore_index=True, sort=True, axis=0)\n",
    "master.head(2)"
   ]
  },
  {
   "cell_type": "code",
   "execution_count": 219,
   "metadata": {},
   "outputs": [
    {
     "name": "stdout",
     "output_type": "stream",
     "text": [
      "(43, 6)\n",
      "(43, 6)\n",
      "(86, 9)\n"
     ]
    }
   ],
   "source": [
    "print(sales.shape)\n",
    "print(visits.shape)\n",
    "print(master.shape)"
   ]
  },
  {
   "cell_type": "code",
   "execution_count": 222,
   "metadata": {},
   "outputs": [
    {
     "data": {
      "text/html": [
       "<div>\n",
       "<style scoped>\n",
       "    .dataframe tbody tr th:only-of-type {\n",
       "        vertical-align: middle;\n",
       "    }\n",
       "\n",
       "    .dataframe tbody tr th {\n",
       "        vertical-align: top;\n",
       "    }\n",
       "\n",
       "    .dataframe thead th {\n",
       "        text-align: right;\n",
       "    }\n",
       "</style>\n",
       "<table border=\"1\" class=\"dataframe\">\n",
       "  <thead>\n",
       "    <tr style=\"text-align: right;\">\n",
       "      <th></th>\n",
       "      <th>Month</th>\n",
       "      <th>Visits</th>\n",
       "      <th>Year</th>\n",
       "      <th>country</th>\n",
       "      <th>page_views</th>\n",
       "      <th>price</th>\n",
       "      <th>quantity</th>\n",
       "      <th>sales</th>\n",
       "      <th>spend</th>\n",
       "    </tr>\n",
       "  </thead>\n",
       "  <tbody>\n",
       "    <tr>\n",
       "      <td>0</td>\n",
       "      <td>1</td>\n",
       "      <td>NaN</td>\n",
       "      <td>2021</td>\n",
       "      <td>India</td>\n",
       "      <td>NaN</td>\n",
       "      <td>69.0</td>\n",
       "      <td>175.0</td>\n",
       "      <td>12075.0</td>\n",
       "      <td>NaN</td>\n",
       "    </tr>\n",
       "    <tr>\n",
       "      <td>1</td>\n",
       "      <td>2</td>\n",
       "      <td>NaN</td>\n",
       "      <td>2021</td>\n",
       "      <td>India</td>\n",
       "      <td>NaN</td>\n",
       "      <td>40.0</td>\n",
       "      <td>53.0</td>\n",
       "      <td>2120.0</td>\n",
       "      <td>NaN</td>\n",
       "    </tr>\n",
       "  </tbody>\n",
       "</table>\n",
       "</div>"
      ],
      "text/plain": [
       "   Month  Visits  Year country  page_views  price  quantity    sales  spend\n",
       "0      1     NaN  2021   India         NaN   69.0     175.0  12075.0    NaN\n",
       "1      2     NaN  2021   India         NaN   40.0      53.0   2120.0    NaN"
      ]
     },
     "execution_count": 222,
     "metadata": {},
     "output_type": "execute_result"
    }
   ],
   "source": [
    "master = pd.concat(\n",
    "    [sales, visits],\n",
    "    ignore_index=True,\n",
    "    sort=True,\n",
    "    axis=0)\n",
    "\n",
    "master.head(2)"
   ]
  },
  {
   "cell_type": "code",
   "execution_count": 223,
   "metadata": {},
   "outputs": [
    {
     "name": "stdout",
     "output_type": "stream",
     "text": [
      "(43, 6)\n",
      "(43, 6)\n",
      "(86, 9)\n"
     ]
    }
   ],
   "source": [
    "print(sales.shape)\n",
    "print(visits.shape)\n",
    "print(master.shape)"
   ]
  },
  {
   "cell_type": "code",
   "execution_count": null,
   "metadata": {},
   "outputs": [],
   "source": []
  },
  {
   "cell_type": "code",
   "execution_count": 224,
   "metadata": {},
   "outputs": [],
   "source": [
    "def process_data(value):\n",
    "    if type(value) != int:\n",
    "        return value\n",
    "    if int(value) > Visits_q_limit:\n",
    "        return .999\n",
    "    return value"
   ]
  },
  {
   "cell_type": "code",
   "execution_count": 225,
   "metadata": {},
   "outputs": [],
   "source": [
    "master[\"Visits\"] = master[\"Visits\"].apply(process_data)"
   ]
  },
  {
   "cell_type": "code",
   "execution_count": 226,
   "metadata": {},
   "outputs": [
    {
     "data": {
      "text/html": [
       "<div>\n",
       "<style scoped>\n",
       "    .dataframe tbody tr th:only-of-type {\n",
       "        vertical-align: middle;\n",
       "    }\n",
       "\n",
       "    .dataframe tbody tr th {\n",
       "        vertical-align: top;\n",
       "    }\n",
       "\n",
       "    .dataframe thead th {\n",
       "        text-align: right;\n",
       "    }\n",
       "</style>\n",
       "<table border=\"1\" class=\"dataframe\">\n",
       "  <thead>\n",
       "    <tr style=\"text-align: right;\">\n",
       "      <th></th>\n",
       "      <th>Month</th>\n",
       "      <th>Visits</th>\n",
       "      <th>Year</th>\n",
       "      <th>country</th>\n",
       "      <th>page_views</th>\n",
       "      <th>price</th>\n",
       "      <th>quantity</th>\n",
       "      <th>sales</th>\n",
       "      <th>spend</th>\n",
       "    </tr>\n",
       "  </thead>\n",
       "  <tbody>\n",
       "    <tr>\n",
       "      <td>0</td>\n",
       "      <td>1</td>\n",
       "      <td>NaN</td>\n",
       "      <td>2021</td>\n",
       "      <td>India</td>\n",
       "      <td>NaN</td>\n",
       "      <td>69.0</td>\n",
       "      <td>175.0</td>\n",
       "      <td>12075.0</td>\n",
       "      <td>NaN</td>\n",
       "    </tr>\n",
       "    <tr>\n",
       "      <td>1</td>\n",
       "      <td>2</td>\n",
       "      <td>NaN</td>\n",
       "      <td>2021</td>\n",
       "      <td>India</td>\n",
       "      <td>NaN</td>\n",
       "      <td>40.0</td>\n",
       "      <td>53.0</td>\n",
       "      <td>2120.0</td>\n",
       "      <td>NaN</td>\n",
       "    </tr>\n",
       "  </tbody>\n",
       "</table>\n",
       "</div>"
      ],
      "text/plain": [
       "   Month  Visits  Year country  page_views  price  quantity    sales  spend\n",
       "0      1     NaN  2021   India         NaN   69.0     175.0  12075.0    NaN\n",
       "1      2     NaN  2021   India         NaN   40.0      53.0   2120.0    NaN"
      ]
     },
     "execution_count": 226,
     "metadata": {},
     "output_type": "execute_result"
    }
   ],
   "source": [
    "master.head(2)"
   ]
  },
  {
   "cell_type": "code",
   "execution_count": 227,
   "metadata": {},
   "outputs": [],
   "source": [
    "def find_and_replace(value: float, find_value: float, return_value: float) -> float:\n",
    "    \"\"\"\n",
    "    This Function find and replace value based on given\n",
    "    \"\"\"\n",
    "    try:\n",
    "        if instance(value) != int:\n",
    "            raise ValueError\n",
    "        \n",
    "        if value > find_value:\n",
    "            return return_value\n",
    "        return value\n",
    "    except Exception as e:\n",
    "        print(e)\n",
    "        \n",
    "        "
   ]
  },
  {
   "cell_type": "code",
   "execution_count": 228,
   "metadata": {},
   "outputs": [],
   "source": [
    "#master[\"Visits\"].applymap(find_and_replace(2000, .999))"
   ]
  },
  {
   "cell_type": "code",
   "execution_count": 229,
   "metadata": {},
   "outputs": [
    {
     "data": {
      "text/html": [
       "<div>\n",
       "<style scoped>\n",
       "    .dataframe tbody tr th:only-of-type {\n",
       "        vertical-align: middle;\n",
       "    }\n",
       "\n",
       "    .dataframe tbody tr th {\n",
       "        vertical-align: top;\n",
       "    }\n",
       "\n",
       "    .dataframe thead th {\n",
       "        text-align: right;\n",
       "    }\n",
       "</style>\n",
       "<table border=\"1\" class=\"dataframe\">\n",
       "  <thead>\n",
       "    <tr style=\"text-align: right;\">\n",
       "      <th></th>\n",
       "      <th>country</th>\n",
       "      <th>Year</th>\n",
       "      <th>Month</th>\n",
       "      <th>Visits</th>\n",
       "      <th>spend</th>\n",
       "      <th>page_views</th>\n",
       "    </tr>\n",
       "  </thead>\n",
       "  <tbody>\n",
       "    <tr>\n",
       "      <td>0</td>\n",
       "      <td>India</td>\n",
       "      <td>2021</td>\n",
       "      <td>1</td>\n",
       "      <td>6630</td>\n",
       "      <td>170</td>\n",
       "      <td>39</td>\n",
       "    </tr>\n",
       "    <tr>\n",
       "      <td>1</td>\n",
       "      <td>India</td>\n",
       "      <td>2021</td>\n",
       "      <td>2</td>\n",
       "      <td>3672</td>\n",
       "      <td>102</td>\n",
       "      <td>36</td>\n",
       "    </tr>\n",
       "  </tbody>\n",
       "</table>\n",
       "</div>"
      ],
      "text/plain": [
       "  country  Year  Month  Visits  spend  page_views\n",
       "0   India  2021      1    6630    170          39\n",
       "1   India  2021      2    3672    102          36"
      ]
     },
     "execution_count": 229,
     "metadata": {},
     "output_type": "execute_result"
    }
   ],
   "source": [
    "visits.update(sales)\n",
    "visits.head(2)"
   ]
  },
  {
   "cell_type": "code",
   "execution_count": 230,
   "metadata": {},
   "outputs": [
    {
     "data": {
      "text/html": [
       "<div>\n",
       "<style scoped>\n",
       "    .dataframe tbody tr th:only-of-type {\n",
       "        vertical-align: middle;\n",
       "    }\n",
       "\n",
       "    .dataframe tbody tr th {\n",
       "        vertical-align: top;\n",
       "    }\n",
       "\n",
       "    .dataframe thead th {\n",
       "        text-align: right;\n",
       "    }\n",
       "</style>\n",
       "<table border=\"1\" class=\"dataframe\">\n",
       "  <thead>\n",
       "    <tr style=\"text-align: right;\">\n",
       "      <th></th>\n",
       "      <th>country</th>\n",
       "      <th>Year</th>\n",
       "      <th>Month</th>\n",
       "      <th>sales</th>\n",
       "      <th>quantity</th>\n",
       "      <th>price</th>\n",
       "    </tr>\n",
       "  </thead>\n",
       "  <tbody>\n",
       "    <tr>\n",
       "      <td>0</td>\n",
       "      <td>India</td>\n",
       "      <td>2021</td>\n",
       "      <td>1</td>\n",
       "      <td>12075.0</td>\n",
       "      <td>175.0</td>\n",
       "      <td>69.0</td>\n",
       "    </tr>\n",
       "    <tr>\n",
       "      <td>1</td>\n",
       "      <td>India</td>\n",
       "      <td>2021</td>\n",
       "      <td>2</td>\n",
       "      <td>2120.0</td>\n",
       "      <td>53.0</td>\n",
       "      <td>40.0</td>\n",
       "    </tr>\n",
       "  </tbody>\n",
       "</table>\n",
       "</div>"
      ],
      "text/plain": [
       "  country  Year  Month    sales  quantity  price\n",
       "0   India  2021      1  12075.0     175.0   69.0\n",
       "1   India  2021      2   2120.0      53.0   40.0"
      ]
     },
     "execution_count": 230,
     "metadata": {},
     "output_type": "execute_result"
    }
   ],
   "source": [
    "sales.update(visits)\n",
    "sales.head(2)"
   ]
  },
  {
   "cell_type": "code",
   "execution_count": 231,
   "metadata": {},
   "outputs": [
    {
     "data": {
      "text/html": [
       "<div>\n",
       "<style scoped>\n",
       "    .dataframe tbody tr th:only-of-type {\n",
       "        vertical-align: middle;\n",
       "    }\n",
       "\n",
       "    .dataframe tbody tr th {\n",
       "        vertical-align: top;\n",
       "    }\n",
       "\n",
       "    .dataframe thead th {\n",
       "        text-align: right;\n",
       "    }\n",
       "</style>\n",
       "<table border=\"1\" class=\"dataframe\">\n",
       "  <thead>\n",
       "    <tr style=\"text-align: right;\">\n",
       "      <th></th>\n",
       "      <th>country</th>\n",
       "      <th>Year</th>\n",
       "      <th>Month</th>\n",
       "      <th>sales</th>\n",
       "      <th>quantity</th>\n",
       "      <th>price</th>\n",
       "    </tr>\n",
       "  </thead>\n",
       "  <tbody>\n",
       "    <tr>\n",
       "      <td>0</td>\n",
       "      <td>India</td>\n",
       "      <td>2021</td>\n",
       "      <td>1</td>\n",
       "      <td>12075.0</td>\n",
       "      <td>175.0</td>\n",
       "      <td>69.0</td>\n",
       "    </tr>\n",
       "    <tr>\n",
       "      <td>1</td>\n",
       "      <td>India</td>\n",
       "      <td>2021</td>\n",
       "      <td>2</td>\n",
       "      <td>2120.0</td>\n",
       "      <td>53.0</td>\n",
       "      <td>40.0</td>\n",
       "    </tr>\n",
       "  </tbody>\n",
       "</table>\n",
       "</div>"
      ],
      "text/plain": [
       "  country  Year  Month    sales  quantity  price\n",
       "0   India  2021      1  12075.0     175.0   69.0\n",
       "1   India  2021      2   2120.0      53.0   40.0"
      ]
     },
     "execution_count": 231,
     "metadata": {},
     "output_type": "execute_result"
    }
   ],
   "source": [
    "sales.head(2)"
   ]
  },
  {
   "cell_type": "code",
   "execution_count": 232,
   "metadata": {},
   "outputs": [
    {
     "data": {
      "text/html": [
       "<div>\n",
       "<style scoped>\n",
       "    .dataframe tbody tr th:only-of-type {\n",
       "        vertical-align: middle;\n",
       "    }\n",
       "\n",
       "    .dataframe tbody tr th {\n",
       "        vertical-align: top;\n",
       "    }\n",
       "\n",
       "    .dataframe thead th {\n",
       "        text-align: right;\n",
       "    }\n",
       "</style>\n",
       "<table border=\"1\" class=\"dataframe\">\n",
       "  <thead>\n",
       "    <tr style=\"text-align: right;\">\n",
       "      <th></th>\n",
       "      <th>country</th>\n",
       "      <th>Year</th>\n",
       "      <th>Month</th>\n",
       "      <th>sales</th>\n",
       "      <th>quantity</th>\n",
       "      <th>price</th>\n",
       "      <th>next_5_year</th>\n",
       "    </tr>\n",
       "  </thead>\n",
       "  <tbody>\n",
       "    <tr>\n",
       "      <td>0</td>\n",
       "      <td>India</td>\n",
       "      <td>2021</td>\n",
       "      <td>1</td>\n",
       "      <td>12075.0</td>\n",
       "      <td>175.0</td>\n",
       "      <td>69.0</td>\n",
       "      <td>2026</td>\n",
       "    </tr>\n",
       "    <tr>\n",
       "      <td>1</td>\n",
       "      <td>India</td>\n",
       "      <td>2021</td>\n",
       "      <td>2</td>\n",
       "      <td>2120.0</td>\n",
       "      <td>53.0</td>\n",
       "      <td>40.0</td>\n",
       "      <td>2026</td>\n",
       "    </tr>\n",
       "  </tbody>\n",
       "</table>\n",
       "</div>"
      ],
      "text/plain": [
       "  country  Year  Month    sales  quantity  price  next_5_year\n",
       "0   India  2021      1  12075.0     175.0   69.0         2026\n",
       "1   India  2021      2   2120.0      53.0   40.0         2026"
      ]
     },
     "execution_count": 232,
     "metadata": {},
     "output_type": "execute_result"
    }
   ],
   "source": [
    "master = sales.assign(next_5_year = sales[\"Year\"] + 5)\n",
    "master.head(2)"
   ]
  },
  {
   "cell_type": "code",
   "execution_count": 239,
   "metadata": {},
   "outputs": [
    {
     "data": {
      "text/html": [
       "<div>\n",
       "<style scoped>\n",
       "    .dataframe tbody tr th:only-of-type {\n",
       "        vertical-align: middle;\n",
       "    }\n",
       "\n",
       "    .dataframe tbody tr th {\n",
       "        vertical-align: top;\n",
       "    }\n",
       "\n",
       "    .dataframe thead th {\n",
       "        text-align: right;\n",
       "    }\n",
       "</style>\n",
       "<table border=\"1\" class=\"dataframe\">\n",
       "  <thead>\n",
       "    <tr style=\"text-align: right;\">\n",
       "      <th></th>\n",
       "      <th>country</th>\n",
       "      <th>Year</th>\n",
       "      <th>Month</th>\n",
       "      <th>sales</th>\n",
       "      <th>quantity</th>\n",
       "      <th>price</th>\n",
       "      <th>next_cycle</th>\n",
       "    </tr>\n",
       "  </thead>\n",
       "  <tbody>\n",
       "    <tr>\n",
       "      <td>0</td>\n",
       "      <td>India</td>\n",
       "      <td>2021</td>\n",
       "      <td>1</td>\n",
       "      <td>12075.0</td>\n",
       "      <td>175.0</td>\n",
       "      <td>69.0</td>\n",
       "      <td>2026</td>\n",
       "    </tr>\n",
       "    <tr>\n",
       "      <td>1</td>\n",
       "      <td>India</td>\n",
       "      <td>2021</td>\n",
       "      <td>2</td>\n",
       "      <td>2120.0</td>\n",
       "      <td>53.0</td>\n",
       "      <td>40.0</td>\n",
       "      <td>2026</td>\n",
       "    </tr>\n",
       "  </tbody>\n",
       "</table>\n",
       "</div>"
      ],
      "text/plain": [
       "  country  Year  Month    sales  quantity  price  next_cycle\n",
       "0   India  2021      1  12075.0     175.0   69.0        2026\n",
       "1   India  2021      2   2120.0      53.0   40.0        2026"
      ]
     },
     "execution_count": 239,
     "metadata": {},
     "output_type": "execute_result"
    }
   ],
   "source": [
    "def next_cycle(value):\n",
    "    return value + next_cycle_value\n",
    "\n",
    "master = sales.assign(next_cycle = next_cycle(sales[\"Year\"]))\n",
    "master.head(2)"
   ]
  },
  {
   "cell_type": "code",
   "execution_count": 243,
   "metadata": {},
   "outputs": [
    {
     "data": {
      "text/html": [
       "<div>\n",
       "<style scoped>\n",
       "    .dataframe tbody tr th:only-of-type {\n",
       "        vertical-align: middle;\n",
       "    }\n",
       "\n",
       "    .dataframe tbody tr th {\n",
       "        vertical-align: top;\n",
       "    }\n",
       "\n",
       "    .dataframe thead th {\n",
       "        text-align: right;\n",
       "    }\n",
       "</style>\n",
       "<table border=\"1\" class=\"dataframe\">\n",
       "  <thead>\n",
       "    <tr style=\"text-align: right;\">\n",
       "      <th></th>\n",
       "      <th>country</th>\n",
       "      <th>Year</th>\n",
       "      <th>Month</th>\n",
       "      <th>sales</th>\n",
       "      <th>quantity</th>\n",
       "      <th>price</th>\n",
       "      <th>next_cycle</th>\n",
       "      <th>new_col</th>\n",
       "    </tr>\n",
       "  </thead>\n",
       "  <tbody>\n",
       "    <tr>\n",
       "      <td>0</td>\n",
       "      <td>India</td>\n",
       "      <td>2021</td>\n",
       "      <td>1</td>\n",
       "      <td>12075.0</td>\n",
       "      <td>175.0</td>\n",
       "      <td>69.0</td>\n",
       "      <td>2026</td>\n",
       "      <td>hello,hello,hello</td>\n",
       "    </tr>\n",
       "    <tr>\n",
       "      <td>1</td>\n",
       "      <td>India</td>\n",
       "      <td>2021</td>\n",
       "      <td>2</td>\n",
       "      <td>2120.0</td>\n",
       "      <td>53.0</td>\n",
       "      <td>40.0</td>\n",
       "      <td>2026</td>\n",
       "      <td>hello,hello,hello</td>\n",
       "    </tr>\n",
       "  </tbody>\n",
       "</table>\n",
       "</div>"
      ],
      "text/plain": [
       "  country  Year  Month    sales  quantity  price  next_cycle  \\\n",
       "0   India  2021      1  12075.0     175.0   69.0        2026   \n",
       "1   India  2021      2   2120.0      53.0   40.0        2026   \n",
       "\n",
       "             new_col  \n",
       "0  hello,hello,hello  \n",
       "1  hello,hello,hello  "
      ]
     },
     "execution_count": 243,
     "metadata": {},
     "output_type": "execute_result"
    }
   ],
   "source": [
    "master[\"new_col\"] = \"hello,hello,hello\"\n",
    "master.head(2)"
   ]
  },
  {
   "cell_type": "code",
   "execution_count": 246,
   "metadata": {},
   "outputs": [
    {
     "data": {
      "text/html": [
       "<div>\n",
       "<style scoped>\n",
       "    .dataframe tbody tr th:only-of-type {\n",
       "        vertical-align: middle;\n",
       "    }\n",
       "\n",
       "    .dataframe tbody tr th {\n",
       "        vertical-align: top;\n",
       "    }\n",
       "\n",
       "    .dataframe thead th {\n",
       "        text-align: right;\n",
       "    }\n",
       "</style>\n",
       "<table border=\"1\" class=\"dataframe\">\n",
       "  <thead>\n",
       "    <tr style=\"text-align: right;\">\n",
       "      <th></th>\n",
       "      <th>Year</th>\n",
       "      <th>Month</th>\n",
       "      <th>sales</th>\n",
       "      <th>quantity</th>\n",
       "      <th>price</th>\n",
       "      <th>next_cycle</th>\n",
       "      <th>new_col</th>\n",
       "      <th>prefix_India</th>\n",
       "      <th>prefix_US</th>\n",
       "    </tr>\n",
       "  </thead>\n",
       "  <tbody>\n",
       "    <tr>\n",
       "      <td>0</td>\n",
       "      <td>2021</td>\n",
       "      <td>1</td>\n",
       "      <td>12075.0</td>\n",
       "      <td>175.0</td>\n",
       "      <td>69.0</td>\n",
       "      <td>2026</td>\n",
       "      <td>hello,hello,hello</td>\n",
       "      <td>1</td>\n",
       "      <td>0</td>\n",
       "    </tr>\n",
       "    <tr>\n",
       "      <td>1</td>\n",
       "      <td>2021</td>\n",
       "      <td>2</td>\n",
       "      <td>2120.0</td>\n",
       "      <td>53.0</td>\n",
       "      <td>40.0</td>\n",
       "      <td>2026</td>\n",
       "      <td>hello,hello,hello</td>\n",
       "      <td>1</td>\n",
       "      <td>0</td>\n",
       "    </tr>\n",
       "  </tbody>\n",
       "</table>\n",
       "</div>"
      ],
      "text/plain": [
       "   Year  Month    sales  quantity  price  next_cycle            new_col  \\\n",
       "0  2021      1  12075.0     175.0   69.0        2026  hello,hello,hello   \n",
       "1  2021      2   2120.0      53.0   40.0        2026  hello,hello,hello   \n",
       "\n",
       "   prefix_India  prefix_US  \n",
       "0             1          0  \n",
       "1             1          0  "
      ]
     },
     "execution_count": 246,
     "metadata": {},
     "output_type": "execute_result"
    }
   ],
   "source": [
    "master = pd.get_dummies(master, columns=['country'], prefix='prefix')\n",
    "master.head(2)"
   ]
  },
  {
   "cell_type": "code",
   "execution_count": 248,
   "metadata": {},
   "outputs": [
    {
     "data": {
      "text/plain": [
       "array([ 1,  2,  3,  4,  5,  6,  7,  8,  9, 10, 11, 12], dtype=int64)"
      ]
     },
     "execution_count": 248,
     "metadata": {},
     "output_type": "execute_result"
    }
   ],
   "source": [
    "master[\"Month\"].unique()"
   ]
  },
  {
   "cell_type": "code",
   "execution_count": 249,
   "metadata": {},
   "outputs": [
    {
     "data": {
      "text/plain": [
       "12"
      ]
     },
     "execution_count": 249,
     "metadata": {},
     "output_type": "execute_result"
    }
   ],
   "source": [
    "master[\"Month\"].nunique()"
   ]
  },
  {
   "cell_type": "code",
   "execution_count": null,
   "metadata": {},
   "outputs": [],
   "source": []
  },
  {
   "cell_type": "code",
   "execution_count": null,
   "metadata": {},
   "outputs": [],
   "source": []
  },
  {
   "cell_type": "code",
   "execution_count": null,
   "metadata": {},
   "outputs": [],
   "source": []
  },
  {
   "cell_type": "code",
   "execution_count": null,
   "metadata": {},
   "outputs": [],
   "source": []
  },
  {
   "cell_type": "code",
   "execution_count": null,
   "metadata": {},
   "outputs": [],
   "source": []
  },
  {
   "cell_type": "code",
   "execution_count": 252,
   "metadata": {},
   "outputs": [
    {
     "data": {
      "image/png": "[encoded data removed]",
      "text/plain": [
       "<Figure size 432x288 with 1 Axes>"
      ]
     },
     "metadata": {
      "needs_background": "light"
     },
     "output_type": "display_data"
    }
   ],
   "source": [
    "import random\n",
    "import matplotlib.pyplot as plt\n",
    "\n",
    "# Define the number of simulations to run\n",
    "num_simulations = 1000\n",
    "\n",
    "# Define the number of coin flips per simulation\n",
    "num_flips = 10\n",
    "\n",
    "# Initialize a list to store the results of each simulation\n",
    "results = []\n",
    "\n",
    "# Run the simulations\n",
    "for i in range(num_simulations):\n",
    "    heads = 0\n",
    "    tails = 0\n",
    "    for j in range(num_flips):\n",
    "        flip = random.random()\n",
    "        if flip < 0.5:\n",
    "            heads += 1\n",
    "        else:\n",
    "            tails += 1\n",
    "    results.append(heads)\n",
    "\n",
    "# Plot the results\n",
    "plt.hist(results, bins=range(num_flips+2), edgecolor='black')\n",
    "\n",
    "# Add labels and title to the plot\n",
    "plt.xlabel('Number of Heads')\n",
    "plt.ylabel('Frequency')\n",
    "plt.title(f'Results of {num_simulations} Simulations ({num_flips} Coin Flips Per Simulation)')\n",
    "\n",
    "# Show the plot\n",
    "plt.show()\n"
   ]
  },
  {
   "cell_type": "code",
   "execution_count": 253,
   "metadata": {},
   "outputs": [
    {
     "data": {
      "image/png": "[encoded data removed]",
      "text/plain": [
       "<Figure size 432x288 with 1 Axes>"
      ]
     },
     "metadata": {
      "needs_background": "light"
     },
     "output_type": "display_data"
    }
   ],
   "source": [
    "import random\n",
    "import numpy as np\n",
    "import matplotlib.pyplot as plt\n",
    "\n",
    "# Define the number of simulations to run\n",
    "num_simulations = 1000\n",
    "\n",
    "# Define the number of coin flips per simulation\n",
    "num_flips = 10\n",
    "\n",
    "# Initialize a list to store the results of each simulation\n",
    "results = []\n",
    "\n",
    "# Run the simulations\n",
    "for i in range(num_simulations):\n",
    "    heads = 0\n",
    "    tails = 0\n",
    "    for j in range(num_flips):\n",
    "        flip = random.random()\n",
    "        if flip < 0.5:\n",
    "            heads += 1\n",
    "        else:\n",
    "            tails += 1\n",
    "    results.append([i, heads])\n",
    "\n",
    "# Convert the results to a numpy array\n",
    "results_array = np.array(results)\n",
    "\n",
    "# Plot the results\n",
    "plt.scatter(results_array[:,0], results_array[:,1])\n",
    "\n",
    "# Add labels and title to the plot\n",
    "plt.xlabel('Simulation Number')\n",
    "plt.ylabel('Number of Heads')\n",
    "plt.title(f'Results of {num_simulations} Simulations ({num_flips} Coin Flips Per Simulation)')\n",
    "\n",
    "# Show the plot\n",
    "plt.show()\n"
   ]
  },
  {
   "cell_type": "code",
   "execution_count": null,
   "metadata": {},
   "outputs": [],
   "source": []
  }
 ],
 "metadata": {
  "kernelspec": {
   "display_name": "Python 3",
   "language": "python",
   "name": "python3"
  },
  "language_info": {
   "codemirror_mode": {
    "name": "ipython",
    "version": 3
   },
   "file_extension": ".py",
   "mimetype": "text/x-python",
   "name": "python",
   "nbconvert_exporter": "python",
   "pygments_lexer": "ipython3",
   "version": "3.7.4"
  }
 },
 "nbformat": 4,
 "nbformat_minor": 2
}
