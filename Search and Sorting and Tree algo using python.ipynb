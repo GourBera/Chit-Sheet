{
 "cells": [
  {
   "cell_type": "markdown",
   "metadata": {},
   "source": [
    "## Search Algorithm"
   ]
  },
  {
   "cell_type": "markdown",
   "metadata": {},
   "source": [
    "1. Linear Search\n",
    "2. Binary Search\n",
    "3. Depth-First Search (DFS)\n",
    "4. Breadth-First Search (BFS)"
   ]
  },
  {
   "cell_type": "markdown",
   "metadata": {},
   "source": [
    "### Linear Search\n",
    "\n",
    "This is the simplest search algorithm that sequentially checks each element of a list until the target element is found or the end of the list is reached"
   ]
  },
  {
   "cell_type": "code",
   "execution_count": 1,
   "metadata": {},
   "outputs": [],
   "source": [
    "def linear_search(arr, target):\n",
    "    for i in range(len(arr)):\n",
    "        if arr[i] == target:\n",
    "            return i\n",
    "    return -1\n"
   ]
  },
  {
   "cell_type": "markdown",
   "metadata": {},
   "source": [
    "### Binary Search\n",
    "\n",
    "This is a more efficient search algorithm that is used for sorted lists. It starts by checking the middle element of the list, and based on the comparison with the target element, it eliminates half of the remaining elements and repeats the process until the target element is found or the list is exhausted"
   ]
  },
  {
   "cell_type": "code",
   "execution_count": 2,
   "metadata": {},
   "outputs": [],
   "source": [
    "def binary_search(arr, target):\n",
    "    left, right = 0, len(arr) - 1\n",
    "    while left <= right:\n",
    "        mid = (left + right) // 2\n",
    "        if arr[mid] == target:\n",
    "            return mid\n",
    "        elif arr[mid] < target:\n",
    "            left = mid + 1\n",
    "        else:\n",
    "            right = mid - 1\n",
    "    return -1\n"
   ]
  },
  {
   "cell_type": "markdown",
   "metadata": {},
   "source": [
    "### Depth-First Search (DFS)\n",
    "\n",
    "This is a search algorithm used for traversing or searching a tree or graph data structure. It starts from the root node and explores as far as possible along each branch before backtracking"
   ]
  },
  {
   "cell_type": "code",
   "execution_count": 3,
   "metadata": {},
   "outputs": [],
   "source": [
    "class TreeNode:\n",
    "    def __init__(self, val):\n",
    "        self.val = val\n",
    "        self.left = None\n",
    "        self.right = None\n",
    "\n",
    "def dfs(root, target):\n",
    "    if root is None:\n",
    "        return None\n",
    "    if root.val == target:\n",
    "        return root\n",
    "    left = dfs(root.left, target)\n",
    "    if left is not None:\n",
    "        return left\n",
    "    right = dfs(root.right, target)\n",
    "    return right\n"
   ]
  },
  {
   "cell_type": "markdown",
   "metadata": {},
   "source": [
    "### Breadth-First Search (BFS)\n",
    "\n",
    "This is another search algorithm used for traversing or searching a tree or graph data structure. It visits all the nodes at the current depth before moving on to the next level."
   ]
  },
  {
   "cell_type": "code",
   "execution_count": null,
   "metadata": {},
   "outputs": [],
   "source": [
    "from collections import deque\n",
    "\n",
    "class TreeNode:\n",
    "    def __init__(self, val):\n",
    "        self.val = val\n",
    "        self.left = None\n",
    "        self.right = None\n",
    "\n",
    "def bfs(root, target):\n",
    "    if root is None:\n",
    "        return None\n",
    "    queue = deque([root])\n",
    "    while queue:\n",
    "        node = queue.popleft()\n",
    "        if node.val == target:\n",
    "            return node\n",
    "        if node.left:\n",
    "            queue.append(node.left)\n",
    "        if node.right:\n",
    "            queue.append(node.right)\n",
    "    return None\n"
   ]
  },
  {
   "cell_type": "markdown",
   "metadata": {},
   "source": [
    "## Sorting Algorithm\n",
    "\n",
    "1. Bubble sort\n",
    "2. Insertion sort\n",
    "3. Selection sort\n",
    "4. Merge sort\n",
    "5. Quick sort"
   ]
  },
  {
   "cell_type": "markdown",
   "metadata": {},
   "source": [
    "### Bubble sort\n",
    "\n",
    "Bubble sort is a simple sorting algorithm that repeatedly steps through the list, compares adjacent elements and swaps them if they are in the wrong order. The algorithm gets its name from the way smaller elements \"bubble\" to the top of the list.\n",
    "\n",
    "The algorithm has a time complexity of O(n^2), which makes it inefficient for large data sets"
   ]
  },
  {
   "cell_type": "code",
   "execution_count": 8,
   "metadata": {},
   "outputs": [
    {
     "name": "stdout",
     "output_type": "stream",
     "text": [
      "Sorted array is: [11, 12, 22, 25, 34, 64, 90]\n"
     ]
    }
   ],
   "source": [
    "def bubble_sort(numbers):\n",
    "    n = len(numbers)\n",
    "    for i in range(n):\n",
    "        for j in range(0, n-i-1):\n",
    "            if numbers[j] > numbers[j+1]:\n",
    "                numbers[j], numbers[j+1] = numbers[j+1], numbers[j]\n",
    "    return numbers\n",
    "\n",
    "numbers = [64, 34, 25, 12, 22, 11, 90]\n",
    "print(\"Sorted array is:\", bubble_sort(numbers))\n",
    "\n"
   ]
  },
  {
   "cell_type": "markdown",
   "metadata": {},
   "source": [
    "### Insertion sort\n",
    "\n",
    "Insertion sort is another simple sorting algorithm that builds the final sorted array one item at a time. It is much less efficient than other sorting algorithms like quicksort, mergesort or heapsort, but it has the advantage of being simple to understand and implement.\n",
    "\n",
    "The time complexity of insertion sort is O(n^2) in the worst case, but it can be faster in practice if the data is already partially sorted or if there are few elements to sort."
   ]
  },
  {
   "cell_type": "code",
   "execution_count": 9,
   "metadata": {},
   "outputs": [
    {
     "name": "stdout",
     "output_type": "stream",
     "text": [
      "Sorted array is: [11, 12, 22, 25, 34, 64, 90]\n"
     ]
    }
   ],
   "source": [
    "def insertion_sort(numbers):\n",
    "    for i in range(1, len(numbers)):\n",
    "        key = numbers[i]\n",
    "        j = i-1\n",
    "        while j >= 0 and key < numbers[j]:\n",
    "            numbers[j+1] = numbers[j]\n",
    "            j -= 1\n",
    "        numbers[j+1] = key\n",
    "    return numbers\n",
    "\n",
    "numbers = [64, 34, 25, 12, 22, 11, 90]\n",
    "print(\"Sorted array is:\", insertion_sort(numbers))\n"
   ]
  },
  {
   "cell_type": "markdown",
   "metadata": {},
   "source": [
    "### Selection sort\n",
    "\n",
    "Selection sort is a simple sorting algorithm that works by selecting the smallest (or largest, depending on the sorting order) element from the unsorted part of the array and swapping it with the first element of the unsorted part. This process is repeated until the array is fully sorted.\n",
    "\n",
    "The time complexity of selection sort is O(n^2) in the worst case, making it less efficient than other sorting algorithms like quicksort, mergesort or heapsort. However, it is still useful to understand and can be useful in certain situations, such as when memory is limited or when the size of the data is small."
   ]
  },
  {
   "cell_type": "code",
   "execution_count": 10,
   "metadata": {},
   "outputs": [
    {
     "name": "stdout",
     "output_type": "stream",
     "text": [
      "Sorted array is: [11, 12, 22, 25, 34, 64, 90]\n"
     ]
    }
   ],
   "source": [
    "def selection_sort(numbers):\n",
    "    for i in range(len(numbers)):\n",
    "        min_idx = i\n",
    "        for j in range(i+1, len(numbers)):\n",
    "            if numbers[j] < numbers[min_idx]:\n",
    "                min_idx = j\n",
    "        numbers[i], numbers[min_idx] = numbers[min_idx], numbers[i]\n",
    "    return numbers\n",
    "\n",
    "numbers = [64, 34, 25, 12, 22, 11, 90]\n",
    "print(\"Sorted array is:\", selection_sort(numbers))\n"
   ]
  },
  {
   "cell_type": "markdown",
   "metadata": {},
   "source": [
    "### Merge sort\n",
    "\n",
    "Merge sort is a divide-and-conquer algorithm that works by recursively breaking down a list into smaller sub-lists until each sub-list contains only one element. Then the sub-lists are combined back into a single list in a sorted order.\n",
    "\n",
    "The below function takes an array as input and returns the sorted array as output. The algorithm has a time complexity of O(n log n), making it a efficient sorting algorithm for large datasets."
   ]
  },
  {
   "cell_type": "code",
   "execution_count": 12,
   "metadata": {},
   "outputs": [
    {
     "name": "stdout",
     "output_type": "stream",
     "text": [
      "Sorted array is: [11, 12, 22, 25, 34, 64, 90]\n"
     ]
    }
   ],
   "source": [
    "def merge_sort(arr):\n",
    "    if len(arr) > 1:\n",
    "        mid = len(arr) // 2\n",
    "        left = arr[:mid]\n",
    "        right = arr[mid:]\n",
    "\n",
    "        # Recursive calls to break down the sub-lists\n",
    "        merge_sort(left)\n",
    "        merge_sort(right)\n",
    "\n",
    "        i = j = k = 0\n",
    "\n",
    "        # Combine the sub-lists in a sorted order\n",
    "        while i < len(left) and j < len(right):\n",
    "            if left[i] < right[j]:\n",
    "                arr[k] = left[i]\n",
    "                i += 1\n",
    "            else:\n",
    "                arr[k] = right[j]\n",
    "                j += 1\n",
    "            k += 1\n",
    "\n",
    "        # Add remaining elements of left sub-list\n",
    "        while i < len(left):\n",
    "            arr[k] = left[i]\n",
    "            i += 1\n",
    "            k += 1\n",
    "\n",
    "        # Add remaining elements of right sub-list\n",
    "        while j < len(right):\n",
    "            arr[k] = right[j]\n",
    "            j += 1\n",
    "            k += 1\n",
    "\n",
    "    return arr\n",
    "\n",
    "numbers = [64, 34, 25, 12, 22, 11, 90]\n",
    "print(\"Sorted array is:\", selection_sort(numbers))"
   ]
  },
  {
   "cell_type": "markdown",
   "metadata": {},
   "source": [
    "### Quick sort\n",
    "\n",
    "Quick sort is a divide-and-conquer algorithm that sorts elements in an array or list by selecting a pivot point, partitioning the other elements into two sub-arrays, according to whether they are less than or greater than the pivot, and then recursively sorting the sub-arrays.\n",
    "\n",
    "The below function implementation uses two functions, partition and quick_sort, to sort an array. The partition function selects the pivot element and rearranges the elements in the array so that elements less than the pivot are on the left and elements greater than the pivot are on the right. The quick_sort function recursively calls itself to sort the sub-arrays created by the partition function."
   ]
  },
  {
   "cell_type": "code",
   "execution_count": 13,
   "metadata": {},
   "outputs": [
    {
     "name": "stdout",
     "output_type": "stream",
     "text": [
      "Sorted array: [1, 3, 4, 5, 6, 7, 12, 15]\n"
     ]
    }
   ],
   "source": [
    "def quick_sort(array, low, high):\n",
    "    if low < high:\n",
    "        pivot_index = partition(array, low, high)\n",
    "        quick_sort(array, low, pivot_index - 1)\n",
    "        quick_sort(array, pivot_index + 1, high)\n",
    "\n",
    "def partition(array, low, high):\n",
    "    pivot = array[high]\n",
    "    i = low - 1\n",
    "    for j in range(low, high):\n",
    "        if array[j] <= pivot:\n",
    "            i = i + 1\n",
    "            array[i], array[j] = array[j], array[i]\n",
    "    array[i + 1], array[high] = array[high], array[i + 1]\n",
    "    return i + 1\n",
    "\n",
    "array = [12, 4, 5, 6, 7, 3, 1, 15]\n",
    "n = len(array)\n",
    "quick_sort(array, 0, n - 1)\n",
    "print(\"Sorted array:\", array)\n"
   ]
  },
  {
   "cell_type": "markdown",
   "metadata": {},
   "source": [
    "## Tree Algorithm\n",
    "\n",
    "A tree algorithm is a data structure that consists of nodes connected by edges. There is one root node at the top, and child nodes connected to the root node form the next level of the tree. The tree can continue to expand until all nodes have child nodes, or some nodes may not have any child nodes, known as leaf nodes. Trees can be used to represent hierarchical relationships, such as in a family tree, or can be used to represent sorted data, such as in a binary search tree.\n",
    "\n",
    "In Python, a tree can be implemented using classes and objects. Each node can be represented as an object, and the edges between the nodes can be represented by references to the child nodes. "
   ]
  },
  {
   "cell_type": "code",
   "execution_count": 26,
   "metadata": {},
   "outputs": [
    {
     "name": "stdout",
     "output_type": "stream",
     "text": [
      "<__main__.BinaryTree object at 0x000002B05FDC5788>\n",
      "True\n"
     ]
    }
   ],
   "source": [
    "class Node:\n",
    "    def __init__(self, data):\n",
    "        self.data = data\n",
    "        self.left = None\n",
    "        self.right = None\n",
    "   \n",
    "\n",
    "class BinaryTree:\n",
    "    def __init__(self):\n",
    "        self.root = None\n",
    "    \n",
    "    def add_node(self, data):\n",
    "        new_node = Node(data)\n",
    "        if self.root is None:\n",
    "            self.root = new_node\n",
    "        else:\n",
    "            current_node = self.root\n",
    "            while True:\n",
    "                if data <= current_node.data:\n",
    "                    if current_node.left is None:\n",
    "                        current_node.left = new_node\n",
    "                        break\n",
    "                    else:\n",
    "                        current_node = current_node.left\n",
    "                else:\n",
    "                    if current_node.right is None:\n",
    "                        current_node.right = new_node\n",
    "                        break\n",
    "                    else:\n",
    "                        current_node = current_node.right\n",
    "    \n",
    "    def search(self, data):\n",
    "        current_node = self.root\n",
    "        while current_node is not None:\n",
    "            if current_node.data == data:\n",
    "                return True\n",
    "            elif data < current_node.data:\n",
    "                current_node = current_node.left\n",
    "            else:\n",
    "                current_node = current_node.right\n",
    "        return False\n",
    "    \n",
    "    \n",
    "\n",
    "bt = BinaryTree()\n",
    "bt.add_node(5)\n",
    "bt.add_node(3)\n",
    "bt.add_node(7)\n",
    "\n",
    "print((bt))\n",
    "print(bt.search(7)) # True\n"
   ]
  },
  {
   "cell_type": "markdown",
   "metadata": {},
   "source": [
    "### Types of Tree Algorithms\n",
    "\n",
    "1. Binary Search Tree (BST)\n",
    "2. AVL Tree (Adelson-Velsky and Landis)\n",
    "3. B-Tree\n",
    "4. Trie\n",
    "5. Segment Tree\n",
    "6. K-d Tree (K-dimensional Tree)"
   ]
  },
  {
   "cell_type": "markdown",
   "metadata": {},
   "source": [
    "### Binary Search Tree (BST)\n",
    "\n",
    "A Binary Search Tree (BST) is a type of data structure used to store elements in a sorted manner such that, for any given node in the tree, the values in its left subtree are less than or equal to the value stored in the node, and the values in its right subtree are greater than the value stored in the node.\n",
    "\n"
   ]
  },
  {
   "cell_type": "code",
   "execution_count": 33,
   "metadata": {},
   "outputs": [
    {
     "name": "stdout",
     "output_type": "stream",
     "text": [
      "True\n",
      "False\n"
     ]
    }
   ],
   "source": [
    "class Node:\n",
    "    def __init__(self, value, left=None, right=None):\n",
    "        self.value = value\n",
    "        self.left = left\n",
    "        self.right = right\n",
    "\n",
    "class BinarySearchTree:\n",
    "    def __init__(self):\n",
    "        self.root = None\n",
    "\n",
    "    def insert(self, value):\n",
    "        if self.root is None:\n",
    "            self.root = Node(value)\n",
    "            return\n",
    "\n",
    "        current = self.root\n",
    "        while True:\n",
    "            if value <= current.value:\n",
    "                if current.left is None:\n",
    "                    current.left = Node(value)\n",
    "                    return\n",
    "                current = current.left\n",
    "            else:\n",
    "                if current.right is None:\n",
    "                    current.right = Node(value)\n",
    "                    return\n",
    "                current = current.right\n",
    "\n",
    "    def search(self, value):\n",
    "        current = self.root\n",
    "        while current is not None:\n",
    "            if value == current.value:\n",
    "                return True\n",
    "            elif value < current.value:\n",
    "                current = current.left\n",
    "            else:\n",
    "                current = current.right\n",
    "        return False\n",
    "\n",
    "    \n",
    "bst = BinarySearchTree()\n",
    "bst.insert(10)\n",
    "bst.insert(5)\n",
    "bst.insert(15)\n",
    "bst.insert(3)\n",
    "bst.insert(7)\n",
    "\n",
    "print(bst.search(7))  # True\n",
    "print(bst.search(1))  # False\n"
   ]
  },
  {
   "cell_type": "markdown",
   "metadata": {},
   "source": [
    "### AVL Tree\n",
    "\n",
    "AVL (Adelson-Velsky and Landis) trees are self-balancing binary search trees, where the difference between the heights of the left and right subtrees for any node in the tree is at most 1. This helps to ensure that the tree remains balanced and searching for elements has a time complexity of O(log n)."
   ]
  },
  {
   "cell_type": "code",
   "execution_count": 34,
   "metadata": {},
   "outputs": [
    {
     "name": "stdout",
     "output_type": "stream",
     "text": [
      "R----33\n",
      "     L----13\n",
      "     |    L----9\n",
      "     |    |    L----8\n",
      "     |    |    R----11\n",
      "     |    R----21\n",
      "     R----52\n",
      "          R----61\n",
      "After Deletion: \n",
      "R----33\n",
      "     L----9\n",
      "     |    L----8\n",
      "     |    R----21\n",
      "     |         L----11\n",
      "     R----52\n",
      "          R----61\n"
     ]
    }
   ],
   "source": [
    "# AVL tree implementation in Python\n",
    "\n",
    "\n",
    "import sys\n",
    "\n",
    "# Create a tree node\n",
    "class TreeNode(object):\n",
    "    def __init__(self, key):\n",
    "        self.key = key\n",
    "        self.left = None\n",
    "        self.right = None\n",
    "        self.height = 1\n",
    "\n",
    "\n",
    "class AVLTree(object):\n",
    "\n",
    "    # Function to insert a node\n",
    "    def insert_node(self, root, key):\n",
    "\n",
    "        # Find the correct location and insert the node\n",
    "        if not root:\n",
    "            return TreeNode(key)\n",
    "        elif key < root.key:\n",
    "            root.left = self.insert_node(root.left, key)\n",
    "        else:\n",
    "            root.right = self.insert_node(root.right, key)\n",
    "\n",
    "        root.height = 1 + max(self.getHeight(root.left),\n",
    "                              self.getHeight(root.right))\n",
    "\n",
    "        # Update the balance factor and balance the tree\n",
    "        balanceFactor = self.getBalance(root)\n",
    "        if balanceFactor > 1:\n",
    "            if key < root.left.key:\n",
    "                return self.rightRotate(root)\n",
    "            else:\n",
    "                root.left = self.leftRotate(root.left)\n",
    "                return self.rightRotate(root)\n",
    "\n",
    "        if balanceFactor < -1:\n",
    "            if key > root.right.key:\n",
    "                return self.leftRotate(root)\n",
    "            else:\n",
    "                root.right = self.rightRotate(root.right)\n",
    "                return self.leftRotate(root)\n",
    "\n",
    "        return root\n",
    "\n",
    "    # Function to delete a node\n",
    "    def delete_node(self, root, key):\n",
    "\n",
    "        # Find the node to be deleted and remove it\n",
    "        if not root:\n",
    "            return root\n",
    "        elif key < root.key:\n",
    "            root.left = self.delete_node(root.left, key)\n",
    "        elif key > root.key:\n",
    "            root.right = self.delete_node(root.right, key)\n",
    "        else:\n",
    "            if root.left is None:\n",
    "                temp = root.right\n",
    "                root = None\n",
    "                return temp\n",
    "            elif root.right is None:\n",
    "                temp = root.left\n",
    "                root = None\n",
    "                return temp\n",
    "            temp = self.getMinValueNode(root.right)\n",
    "            root.key = temp.key\n",
    "            root.right = self.delete_node(root.right,\n",
    "                                          temp.key)\n",
    "        if root is None:\n",
    "            return root\n",
    "\n",
    "        # Update the balance factor of nodes\n",
    "        root.height = 1 + max(self.getHeight(root.left),\n",
    "                              self.getHeight(root.right))\n",
    "\n",
    "        balanceFactor = self.getBalance(root)\n",
    "\n",
    "        # Balance the tree\n",
    "        if balanceFactor > 1:\n",
    "            if self.getBalance(root.left) >= 0:\n",
    "                return self.rightRotate(root)\n",
    "            else:\n",
    "                root.left = self.leftRotate(root.left)\n",
    "                return self.rightRotate(root)\n",
    "        if balanceFactor < -1:\n",
    "            if self.getBalance(root.right) <= 0:\n",
    "                return self.leftRotate(root)\n",
    "            else:\n",
    "                root.right = self.rightRotate(root.right)\n",
    "                return self.leftRotate(root)\n",
    "        return root\n",
    "\n",
    "    # Function to perform left rotation\n",
    "    def leftRotate(self, z):\n",
    "        y = z.right\n",
    "        T2 = y.left\n",
    "        y.left = z\n",
    "        z.right = T2\n",
    "        z.height = 1 + max(self.getHeight(z.left),\n",
    "                           self.getHeight(z.right))\n",
    "        y.height = 1 + max(self.getHeight(y.left),\n",
    "                           self.getHeight(y.right))\n",
    "        return y\n",
    "\n",
    "    # Function to perform right rotation\n",
    "    def rightRotate(self, z):\n",
    "        y = z.left\n",
    "        T3 = y.right\n",
    "        y.right = z\n",
    "        z.left = T3\n",
    "        z.height = 1 + max(self.getHeight(z.left),\n",
    "                           self.getHeight(z.right))\n",
    "        y.height = 1 + max(self.getHeight(y.left),\n",
    "                           self.getHeight(y.right))\n",
    "        return y\n",
    "\n",
    "    # Get the height of the node\n",
    "    def getHeight(self, root):\n",
    "        if not root:\n",
    "            return 0\n",
    "        return root.height\n",
    "\n",
    "    # Get balance factore of the node\n",
    "    def getBalance(self, root):\n",
    "        if not root:\n",
    "            return 0\n",
    "        return self.getHeight(root.left) - self.getHeight(root.right)\n",
    "\n",
    "    def getMinValueNode(self, root):\n",
    "        if root is None or root.left is None:\n",
    "            return root\n",
    "        return self.getMinValueNode(root.left)\n",
    "\n",
    "    def preOrder(self, root):\n",
    "        if not root:\n",
    "            return\n",
    "        print(\"{0} \".format(root.key), end=\"\")\n",
    "        self.preOrder(root.left)\n",
    "        self.preOrder(root.right)\n",
    "\n",
    "    # Print the tree\n",
    "    def printHelper(self, currPtr, indent, last):\n",
    "        if currPtr != None:\n",
    "            sys.stdout.write(indent)\n",
    "            if last:\n",
    "                sys.stdout.write(\"R----\")\n",
    "                indent += \"     \"\n",
    "            else:\n",
    "                sys.stdout.write(\"L----\")\n",
    "                indent += \"|    \"\n",
    "            print(currPtr.key)\n",
    "            self.printHelper(currPtr.left, indent, False)\n",
    "            self.printHelper(currPtr.right, indent, True)\n",
    "\n",
    "\n",
    "myTree = AVLTree()\n",
    "root = None\n",
    "nums = [33, 13, 52, 9, 21, 61, 8, 11]\n",
    "for num in nums:\n",
    "    root = myTree.insert_node(root, num)\n",
    "myTree.printHelper(root, \"\", True)\n",
    "key = 13\n",
    "root = myTree.delete_node(root, key)\n",
    "print(\"After Deletion: \")\n",
    "myTree.printHelper(root, \"\", True)"
   ]
  },
  {
   "cell_type": "markdown",
   "metadata": {},
   "source": [
    "### B-Tree\n",
    "\n",
    "B-Trees are a type of multi-way tree data structure that are used to store large amounts of data that exceeds the capacity of traditional binary search trees. They are designed to be efficient in terms of both disk access time and memory usage.\n",
    "\n",
    "In B-Trees, every node has multiple children (at least ceil(m/2) and at most m) and stores multiple keys (at least ceil(m/2) - 1 and at most m - 1). This allows for a larger number of keys to be stored in a single node, reducing the number of disk accesses needed to find a particular key."
   ]
  },
  {
   "cell_type": "code",
   "execution_count": 35,
   "metadata": {},
   "outputs": [],
   "source": [
    "class Node:\n",
    "    def __init__(self, t, leaf=False):\n",
    "        self.t = t\n",
    "        self.leaf = leaf\n",
    "        self.keys = []\n",
    "        self.children = []\n",
    "\n",
    "    def split_child(self, i, child):\n",
    "        z = Node(t=self.t, leaf=child.leaf)\n",
    "        z.keys = child.keys[self.t:]\n",
    "        z.children = child.children[self.t:]\n",
    "        self.keys = self.keys[:self.t - 1]\n",
    "        self.children = self.children[:self.t]\n",
    "        self.children.append(z)\n",
    "        self.keys.append(child.keys[self.t - 1])\n",
    "\n",
    "    def insert_not_full(self, k):\n",
    "        i = len(self.keys) - 1\n",
    "        if self.leaf:\n",
    "            self.keys.append(0)\n",
    "            while i >= 0 and k < self.keys[i]:\n",
    "                self.keys[i + 1] = self.keys[i]\n",
    "                i -= 1\n",
    "            self.keys[i + 1] = k\n",
    "        else:\n",
    "            while i >= 0 and k < self.keys[i]:\n",
    "                i -= 1\n",
    "            i += 1\n",
    "            if self.children[i].is_full():\n",
    "                self.split_child(i, self.children[i])\n",
    "                if k > self.keys[i]:\n",
    "                    i += 1\n",
    "            self.children[i].insert_not_full(k)\n",
    "\n",
    "    def is_full(self):\n",
    "        return len(self.keys) == 2 * self.t - 1\n",
    "\n",
    "class BTree:\n",
    "    def __init__(self, t):\n",
    "        self.root = Node(t, leaf=True)\n",
    "\n",
    "    def insert(self, k):\n",
    "        if self.root.is_full():\n",
    "            s = Node(t=self.t, leaf=False)\n",
    "            s.children.append(self.root)\n",
    "            s.split_child(0, self.root)\n",
    "            self.root = s\n",
    "        self.root.insert_not_full(k)\n"
   ]
  },
  {
   "cell_type": "markdown",
   "metadata": {},
   "source": [
    "### Trie\n",
    "\n",
    "A Trie, also known as a prefix tree, is a tree-like data structure used for efficient prefix search and retrieval of strings. Each node in a Trie represents a single character in a word, and each edge in the Trie represents a character transition between characters in a word. The root node represents an empty string and each leaf node represents a complete word.\n",
    "\n",
    "The advantage of a Trie is that it can be used to find all words that start with a given prefix in O(k) time, where k is the length of the prefix. This is much more efficient than searching through all words in a list or a hash table, which takes O(n) time, where n is the number of words in the list.\n",
    "\n",
    "We can also use this trie data structure to store words and retrieve all words that start with a given prefix, by implementing a search function that traverses the Trie from the root to the desired prefix and returns all words that are present in its subtree."
   ]
  },
  {
   "cell_type": "code",
   "execution_count": 36,
   "metadata": {},
   "outputs": [],
   "source": [
    "class TrieNode:\n",
    "    def __init__(self):\n",
    "        self.children = {}\n",
    "        self.end_of_word = False\n",
    "\n",
    "class Trie:\n",
    "    def __init__(self):\n",
    "        self.root = TrieNode()\n",
    "\n",
    "    def insert(self, word):\n",
    "        current = self.root\n",
    "        for char in word:\n",
    "            if char not in current.children:\n",
    "                current.children[char] = TrieNode()\n",
    "            current = current.children[char]\n",
    "        current.end_of_word = True\n",
    "\n",
    "    def search(self, word):\n",
    "        current = self.root\n",
    "        for char in word:\n",
    "            if char not in current.children:\n",
    "                return False\n",
    "            current = current.children[char]\n",
    "        return current.end_of_word\n"
   ]
  },
  {
   "cell_type": "markdown",
   "metadata": {},
   "source": [
    "### Segment Tree\n",
    "\n",
    "A Segment Tree is a data structure used for range query and range updates in arrays. It's a binary tree-like structure where each node represents a range of elements in the original array. The leaf nodes represent individual elements in the array, while non-leaf nodes represent ranges of elements that are the sum or minimum/maximum of their children.\n",
    "\n",
    "The Segment Tree allows you to perform range queries (e.g., finding the sum or minimum/maximum of a range of elements in the array) and range updates (e.g., updating the values of a range of elements in the array) in logarithmic time, which is faster than performing a linear scan of the entire array.\n",
    "\n",
    "Note that this is just one example of a Segment Tree, and the structure and methods can be modified to perform other types of range queries and range updates, such as finding the minimum/maximum or applying a certain operation to a range of elements in the array."
   ]
  },
  {
   "cell_type": "code",
   "execution_count": 37,
   "metadata": {},
   "outputs": [],
   "source": [
    "class SegmentTree:\n",
    "    def __init__(self, arr):\n",
    "        self.n = len(arr)\n",
    "        self.tree = [0] * (4 * self.n)\n",
    "        self.build(arr, 0, self.n - 1, 1)\n",
    "\n",
    "    def build(self, arr, l, r, node):\n",
    "        if l == r:\n",
    "            self.tree[node] = arr[l]\n",
    "        else:\n",
    "            mid = (l + r) // 2\n",
    "            self.build(arr, l, mid, 2 * node)\n",
    "            self.build(arr, mid + 1, r, 2 * node + 1)\n",
    "            self.tree[node] = self.tree[2 * node] + self.tree[2 * node + 1]\n",
    "\n",
    "    def query(self, l, r, node, left, right):\n",
    "        if left <= l and r <= right:\n",
    "            return self.tree[node]\n",
    "        if r < left or right < l:\n",
    "            return 0\n",
    "        mid = (l + r) // 2\n",
    "        return self.query(l, mid, 2 * node, left, right) + self.query(mid + 1, r, 2 * node + 1, left, right)\n",
    "\n",
    "    def update(self, i, value, node, l, r):\n",
    "        if l == r:\n",
    "            self.tree[node] = value\n",
    "        else:\n",
    "            mid = (l + r) // 2\n",
    "            if i <= mid:\n",
    "                self.update(i, value, 2 * node, l, mid)\n",
    "            else:\n",
    "                self.update(i, value, 2 * node + 1, mid + 1, r)\n",
    "            self.tree[node] = self.tree[2 * node] + self.tree[2 * node + 1]\n"
   ]
  },
  {
   "cell_type": "markdown",
   "metadata": {},
   "source": [
    "### K-d Tree\n",
    "\n",
    "K-d Tree (K-dimensional Tree) is a space partitioning data structure used for organizing points in a K-dimensional space. It's a binary search tree-like structure where each node represents a split plane that separates the space into two parts. Points to the left of the split plane are stored in the left subtree, and points to the right of the split plane are stored in the right subtree.\n",
    "\n",
    "The advantage of a K-d Tree is that it can be used to efficiently search for nearest neighbors in a K-dimensional space. It works by dividing the space into smaller regions recursively and searching only the region that is likely to contain the nearest neighbor."
   ]
  },
  {
   "cell_type": "code",
   "execution_count": 39,
   "metadata": {},
   "outputs": [],
   "source": [
    "# K-d Tree for 2D points in Python\n",
    "\n",
    "class KdNode:\n",
    "    def __init__(self, point, left=None, right=None):\n",
    "        self.point = point\n",
    "        self.left = left\n",
    "        self.right = right\n",
    "\n",
    "class KdTree:\n",
    "    def __init__(self, points):\n",
    "        def build_kdtree(points, depth):\n",
    "            if not points:\n",
    "                return None\n",
    "            axis = depth % 2\n",
    "            points.sort(key=lambda x: x[axis])\n",
    "            median = len(points) // 2\n",
    "            return KdNode(\n",
    "                point=points[median],\n",
    "                left=build_kdtree(points[:median], depth + 1),\n",
    "                right=build_kdtree(points[median + 1:], depth + 1),\n",
    "            )\n",
    "        self.root = build_kdtree(points, 0)\n",
    "\n",
    "    def search_nn(self, point, depth=0):\n",
    "        def search_helper(node):\n",
    "            if node is None:\n",
    "                return float(\"inf\"), None\n",
    "            axis = depth % 2\n",
    "            next_branch = None\n",
    "            opposite_branch = None\n",
    "            if point[axis] < node.point[axis]:\n",
    "                next_branch = node.left\n",
    "                opposite_branch = node.right\n",
    "            else:\n",
    "                next_branch = node.right\n",
    "                opposite_branch = node.left\n",
    "            best, best_point = search_helper(next_branch)\n",
    "            dist = ((point[0] - node.point[0]) ** 2 + (point[1] - node.point[1]) ** 2) ** 0.5\n",
    "            if dist < best:\n",
    "                best = dist\n",
    "                best_point = node.point\n",
    "            if abs(point[axis] - node.point[axis]) < best:\n",
    "                branch_best, branch_point = search_helper(opposite_branch)\n",
    "                if branch_best < best:\n",
    "                    best = branch_best\n",
    "                    best_point = branch_point\n",
    "            return best, best_point\n",
    "        return search_helper(self.root)\n"
   ]
  },
  {
   "cell_type": "markdown",
   "metadata": {},
   "source": [
    "This implementation uses a recursive function search_helper to traverse the K-d Tree and find the nearest neighbor of a given point. The function starts at the root and repeatedly splits the space into two parts until it reaches a leaf node. It then returns the closest point it has seen so far. The search_nn method wraps the search_helper function and returns the nearest neighbor."
   ]
  },
  {
   "cell_type": "code",
   "execution_count": null,
   "metadata": {},
   "outputs": [],
   "source": []
  }
 ],
 "metadata": {
  "kernelspec": {
   "display_name": "Python 3",
   "language": "python",
   "name": "python3"
  },
  "language_info": {
   "codemirror_mode": {
    "name": "ipython",
    "version": 3
   },
   "file_extension": ".py",
   "mimetype": "text/x-python",
   "name": "python",
   "nbconvert_exporter": "python",
   "pygments_lexer": "ipython3",
   "version": "3.7.4"
  }
 },
 "nbformat": 4,
 "nbformat_minor": 2
}
